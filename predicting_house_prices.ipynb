{
 "cells": [
  {
   "cell_type": "code",
   "execution_count": 1,
   "id": "64c10fa7",
   "metadata": {},
   "outputs": [],
   "source": [
    "import pandas as pd\n",
    "import numpy as np\n",
    "import matplotlib.pyplot as plt\n",
    "from scipy.stats import randint\n",
    "import seaborn as sns\n",
    "from sklearn.model_selection import train_test_split\n",
    "from sklearn.metrics import mean_squared_error, r2_score\n",
    "from sklearn.preprocessing import StandardScaler, MinMaxScaler\n",
    "from sklearn.impute import SimpleImputer\n",
    "from sklearn.preprocessing import OneHotEncoder\n",
    "from sklearn.preprocessing import OrdinalEncoder\n",
    "from sklearn.pipeline import make_pipeline\n",
    "from sklearn.compose import ColumnTransformer\n",
    "from sklearn.model_selection import GridSearchCV, RandomizedSearchCV\n",
    "\n",
    "from sklearn.feature_selection import RFECV\n",
    "import time\n",
    "from sklearn.decomposition import PCA\n"
   ]
  },
  {
   "cell_type": "markdown",
   "id": "0a2b1d9f",
   "metadata": {},
   "source": [
    "### train set"
   ]
  },
  {
   "cell_type": "code",
   "execution_count": 58,
   "id": "7dd26f8a",
   "metadata": {},
   "outputs": [],
   "source": [
    "import os"
   ]
  },
  {
   "cell_type": "code",
   "execution_count": 102,
   "id": "aab1109a",
   "metadata": {},
   "outputs": [],
   "source": [
    "path=os.getcwd().replace('\\\\','/')+'/housing_competition/train.csv'"
   ]
  },
  {
   "cell_type": "code",
   "execution_count": 105,
   "id": "8b51bec7",
   "metadata": {},
   "outputs": [
    {
     "data": {
      "text/html": [
       "<div>\n",
       "<style scoped>\n",
       "    .dataframe tbody tr th:only-of-type {\n",
       "        vertical-align: middle;\n",
       "    }\n",
       "\n",
       "    .dataframe tbody tr th {\n",
       "        vertical-align: top;\n",
       "    }\n",
       "\n",
       "    .dataframe thead th {\n",
       "        text-align: right;\n",
       "    }\n",
       "</style>\n",
       "<table border=\"1\" class=\"dataframe\">\n",
       "  <thead>\n",
       "    <tr style=\"text-align: right;\">\n",
       "      <th></th>\n",
       "      <th>MSSubClass</th>\n",
       "      <th>MSZoning</th>\n",
       "      <th>LotFrontage</th>\n",
       "      <th>LotArea</th>\n",
       "      <th>Street</th>\n",
       "      <th>Alley</th>\n",
       "      <th>LotShape</th>\n",
       "      <th>LandContour</th>\n",
       "      <th>Utilities</th>\n",
       "      <th>LotConfig</th>\n",
       "      <th>...</th>\n",
       "      <th>PoolArea</th>\n",
       "      <th>PoolQC</th>\n",
       "      <th>Fence</th>\n",
       "      <th>MiscFeature</th>\n",
       "      <th>MiscVal</th>\n",
       "      <th>MoSold</th>\n",
       "      <th>YrSold</th>\n",
       "      <th>SaleType</th>\n",
       "      <th>SaleCondition</th>\n",
       "      <th>SalePrice</th>\n",
       "    </tr>\n",
       "    <tr>\n",
       "      <th>Id</th>\n",
       "      <th></th>\n",
       "      <th></th>\n",
       "      <th></th>\n",
       "      <th></th>\n",
       "      <th></th>\n",
       "      <th></th>\n",
       "      <th></th>\n",
       "      <th></th>\n",
       "      <th></th>\n",
       "      <th></th>\n",
       "      <th></th>\n",
       "      <th></th>\n",
       "      <th></th>\n",
       "      <th></th>\n",
       "      <th></th>\n",
       "      <th></th>\n",
       "      <th></th>\n",
       "      <th></th>\n",
       "      <th></th>\n",
       "      <th></th>\n",
       "      <th></th>\n",
       "    </tr>\n",
       "  </thead>\n",
       "  <tbody>\n",
       "    <tr>\n",
       "      <th>1215</th>\n",
       "      <td>85</td>\n",
       "      <td>RL</td>\n",
       "      <td>69.0</td>\n",
       "      <td>10205</td>\n",
       "      <td>Pave</td>\n",
       "      <td>NaN</td>\n",
       "      <td>IR1</td>\n",
       "      <td>Lvl</td>\n",
       "      <td>AllPub</td>\n",
       "      <td>Inside</td>\n",
       "      <td>...</td>\n",
       "      <td>0</td>\n",
       "      <td>NaN</td>\n",
       "      <td>NaN</td>\n",
       "      <td>NaN</td>\n",
       "      <td>0</td>\n",
       "      <td>5</td>\n",
       "      <td>2006</td>\n",
       "      <td>WD</td>\n",
       "      <td>Normal</td>\n",
       "      <td>134500</td>\n",
       "    </tr>\n",
       "    <tr>\n",
       "      <th>967</th>\n",
       "      <td>50</td>\n",
       "      <td>RL</td>\n",
       "      <td>130.0</td>\n",
       "      <td>9600</td>\n",
       "      <td>Pave</td>\n",
       "      <td>NaN</td>\n",
       "      <td>IR1</td>\n",
       "      <td>HLS</td>\n",
       "      <td>AllPub</td>\n",
       "      <td>Inside</td>\n",
       "      <td>...</td>\n",
       "      <td>0</td>\n",
       "      <td>NaN</td>\n",
       "      <td>NaN</td>\n",
       "      <td>NaN</td>\n",
       "      <td>0</td>\n",
       "      <td>6</td>\n",
       "      <td>2009</td>\n",
       "      <td>WD</td>\n",
       "      <td>Normal</td>\n",
       "      <td>160000</td>\n",
       "    </tr>\n",
       "    <tr>\n",
       "      <th>826</th>\n",
       "      <td>20</td>\n",
       "      <td>RL</td>\n",
       "      <td>114.0</td>\n",
       "      <td>14803</td>\n",
       "      <td>Pave</td>\n",
       "      <td>NaN</td>\n",
       "      <td>Reg</td>\n",
       "      <td>Lvl</td>\n",
       "      <td>AllPub</td>\n",
       "      <td>Inside</td>\n",
       "      <td>...</td>\n",
       "      <td>0</td>\n",
       "      <td>NaN</td>\n",
       "      <td>NaN</td>\n",
       "      <td>NaN</td>\n",
       "      <td>0</td>\n",
       "      <td>6</td>\n",
       "      <td>2008</td>\n",
       "      <td>New</td>\n",
       "      <td>Partial</td>\n",
       "      <td>385000</td>\n",
       "    </tr>\n",
       "  </tbody>\n",
       "</table>\n",
       "<p>3 rows × 80 columns</p>\n",
       "</div>"
      ],
      "text/plain": [
       "      MSSubClass MSZoning  LotFrontage  LotArea Street Alley LotShape  \\\n",
       "Id                                                                      \n",
       "1215          85       RL         69.0    10205   Pave   NaN      IR1   \n",
       "967           50       RL        130.0     9600   Pave   NaN      IR1   \n",
       "826           20       RL        114.0    14803   Pave   NaN      Reg   \n",
       "\n",
       "     LandContour Utilities LotConfig  ... PoolArea PoolQC Fence MiscFeature  \\\n",
       "Id                                    ...                                     \n",
       "1215         Lvl    AllPub    Inside  ...        0    NaN   NaN         NaN   \n",
       "967          HLS    AllPub    Inside  ...        0    NaN   NaN         NaN   \n",
       "826          Lvl    AllPub    Inside  ...        0    NaN   NaN         NaN   \n",
       "\n",
       "     MiscVal MoSold  YrSold  SaleType  SaleCondition  SalePrice  \n",
       "Id                                                               \n",
       "1215       0      5    2006        WD         Normal     134500  \n",
       "967        0      6    2009        WD         Normal     160000  \n",
       "826        0      6    2008       New        Partial     385000  \n",
       "\n",
       "[3 rows x 80 columns]"
      ]
     },
     "execution_count": 105,
     "metadata": {},
     "output_type": "execute_result"
    }
   ],
   "source": [
    "df = pd.read_csv(path)\n",
    "df = df.set_index('Id')\n",
    "#df.isna().sum()\n",
    "df.sample(3)"
   ]
  },
  {
   "cell_type": "code",
   "execution_count": 3,
   "id": "d1f1c537",
   "metadata": {},
   "outputs": [
    {
     "data": {
      "text/plain": [
       "(1460, 80)"
      ]
     },
     "execution_count": 3,
     "metadata": {},
     "output_type": "execute_result"
    }
   ],
   "source": [
    "df.shape"
   ]
  },
  {
   "cell_type": "code",
   "execution_count": 4,
   "id": "0cf25049",
   "metadata": {},
   "outputs": [
    {
     "data": {
      "text/plain": [
       "YearBuilt       2010.0\n",
       "YearRemodAdd    2010.0\n",
       "GarageYrBlt     2010.0\n",
       "dtype: float64"
      ]
     },
     "execution_count": 4,
     "metadata": {},
     "output_type": "execute_result"
    }
   ],
   "source": [
    "df[['YearBuilt', 'YearRemodAdd', 'GarageYrBlt']].max()"
   ]
  },
  {
   "cell_type": "code",
   "execution_count": 5,
   "id": "60227ffd",
   "metadata": {},
   "outputs": [],
   "source": [
    "df['Age'] = 2010 - df.YearBuilt \n",
    "df['AgeRemod'] = 2010 - df.YearRemodAdd   \n",
    "df['AgeGarage'] = 2010 - df.GarageYrBlt   \n",
    "df.drop(labels=['YearBuilt', 'YearRemodAdd', 'GarageYrBlt'], axis=1, inplace=True)"
   ]
  },
  {
   "cell_type": "code",
   "execution_count": 6,
   "id": "39897fb5",
   "metadata": {},
   "outputs": [],
   "source": [
    "y = df['SalePrice'].copy()\n",
    "X = df.drop(columns=['SalePrice']).copy()"
   ]
  },
  {
   "cell_type": "code",
   "execution_count": 7,
   "id": "79da23fe",
   "metadata": {},
   "outputs": [],
   "source": [
    "X_train, X_test, y_train, y_test = train_test_split(X, y, test_size=0.2)"
   ]
  },
  {
   "cell_type": "markdown",
   "id": "f3947541",
   "metadata": {},
   "source": [
    "### final test set for prediction"
   ]
  },
  {
   "cell_type": "code",
   "execution_count": 8,
   "id": "b449e481",
   "metadata": {},
   "outputs": [
    {
     "data": {
      "text/html": [
       "<div>\n",
       "<style scoped>\n",
       "    .dataframe tbody tr th:only-of-type {\n",
       "        vertical-align: middle;\n",
       "    }\n",
       "\n",
       "    .dataframe tbody tr th {\n",
       "        vertical-align: top;\n",
       "    }\n",
       "\n",
       "    .dataframe thead th {\n",
       "        text-align: right;\n",
       "    }\n",
       "</style>\n",
       "<table border=\"1\" class=\"dataframe\">\n",
       "  <thead>\n",
       "    <tr style=\"text-align: right;\">\n",
       "      <th></th>\n",
       "      <th>MSSubClass</th>\n",
       "      <th>MSZoning</th>\n",
       "      <th>LotFrontage</th>\n",
       "      <th>LotArea</th>\n",
       "      <th>Street</th>\n",
       "      <th>Alley</th>\n",
       "      <th>LotShape</th>\n",
       "      <th>LandContour</th>\n",
       "      <th>Utilities</th>\n",
       "      <th>LotConfig</th>\n",
       "      <th>...</th>\n",
       "      <th>ScreenPorch</th>\n",
       "      <th>PoolArea</th>\n",
       "      <th>PoolQC</th>\n",
       "      <th>Fence</th>\n",
       "      <th>MiscFeature</th>\n",
       "      <th>MiscVal</th>\n",
       "      <th>MoSold</th>\n",
       "      <th>YrSold</th>\n",
       "      <th>SaleType</th>\n",
       "      <th>SaleCondition</th>\n",
       "    </tr>\n",
       "    <tr>\n",
       "      <th>Id</th>\n",
       "      <th></th>\n",
       "      <th></th>\n",
       "      <th></th>\n",
       "      <th></th>\n",
       "      <th></th>\n",
       "      <th></th>\n",
       "      <th></th>\n",
       "      <th></th>\n",
       "      <th></th>\n",
       "      <th></th>\n",
       "      <th></th>\n",
       "      <th></th>\n",
       "      <th></th>\n",
       "      <th></th>\n",
       "      <th></th>\n",
       "      <th></th>\n",
       "      <th></th>\n",
       "      <th></th>\n",
       "      <th></th>\n",
       "      <th></th>\n",
       "      <th></th>\n",
       "    </tr>\n",
       "  </thead>\n",
       "  <tbody>\n",
       "    <tr>\n",
       "      <th>2385</th>\n",
       "      <td>20</td>\n",
       "      <td>RL</td>\n",
       "      <td>88.0</td>\n",
       "      <td>10738</td>\n",
       "      <td>Pave</td>\n",
       "      <td>NaN</td>\n",
       "      <td>IR1</td>\n",
       "      <td>Lvl</td>\n",
       "      <td>AllPub</td>\n",
       "      <td>Corner</td>\n",
       "      <td>...</td>\n",
       "      <td>0</td>\n",
       "      <td>0</td>\n",
       "      <td>NaN</td>\n",
       "      <td>MnPrv</td>\n",
       "      <td>Shed</td>\n",
       "      <td>400</td>\n",
       "      <td>11</td>\n",
       "      <td>2007</td>\n",
       "      <td>WD</td>\n",
       "      <td>Normal</td>\n",
       "    </tr>\n",
       "    <tr>\n",
       "      <th>1877</th>\n",
       "      <td>20</td>\n",
       "      <td>RL</td>\n",
       "      <td>65.0</td>\n",
       "      <td>10739</td>\n",
       "      <td>Pave</td>\n",
       "      <td>NaN</td>\n",
       "      <td>IR1</td>\n",
       "      <td>Lvl</td>\n",
       "      <td>AllPub</td>\n",
       "      <td>Inside</td>\n",
       "      <td>...</td>\n",
       "      <td>0</td>\n",
       "      <td>0</td>\n",
       "      <td>NaN</td>\n",
       "      <td>NaN</td>\n",
       "      <td>NaN</td>\n",
       "      <td>0</td>\n",
       "      <td>4</td>\n",
       "      <td>2009</td>\n",
       "      <td>WD</td>\n",
       "      <td>Normal</td>\n",
       "    </tr>\n",
       "    <tr>\n",
       "      <th>2811</th>\n",
       "      <td>20</td>\n",
       "      <td>RL</td>\n",
       "      <td>NaN</td>\n",
       "      <td>9535</td>\n",
       "      <td>Pave</td>\n",
       "      <td>NaN</td>\n",
       "      <td>IR1</td>\n",
       "      <td>Lvl</td>\n",
       "      <td>AllPub</td>\n",
       "      <td>Inside</td>\n",
       "      <td>...</td>\n",
       "      <td>0</td>\n",
       "      <td>0</td>\n",
       "      <td>NaN</td>\n",
       "      <td>MnPrv</td>\n",
       "      <td>NaN</td>\n",
       "      <td>0</td>\n",
       "      <td>7</td>\n",
       "      <td>2006</td>\n",
       "      <td>WD</td>\n",
       "      <td>Normal</td>\n",
       "    </tr>\n",
       "  </tbody>\n",
       "</table>\n",
       "<p>3 rows × 79 columns</p>\n",
       "</div>"
      ],
      "text/plain": [
       "      MSSubClass MSZoning  LotFrontage  LotArea Street Alley LotShape  \\\n",
       "Id                                                                      \n",
       "2385          20       RL         88.0    10738   Pave   NaN      IR1   \n",
       "1877          20       RL         65.0    10739   Pave   NaN      IR1   \n",
       "2811          20       RL          NaN     9535   Pave   NaN      IR1   \n",
       "\n",
       "     LandContour Utilities LotConfig  ... ScreenPorch PoolArea PoolQC  Fence  \\\n",
       "Id                                    ...                                      \n",
       "2385         Lvl    AllPub    Corner  ...           0        0    NaN  MnPrv   \n",
       "1877         Lvl    AllPub    Inside  ...           0        0    NaN    NaN   \n",
       "2811         Lvl    AllPub    Inside  ...           0        0    NaN  MnPrv   \n",
       "\n",
       "     MiscFeature MiscVal  MoSold  YrSold  SaleType  SaleCondition  \n",
       "Id                                                                 \n",
       "2385        Shed     400      11    2007        WD         Normal  \n",
       "1877         NaN       0       4    2009        WD         Normal  \n",
       "2811         NaN       0       7    2006        WD         Normal  \n",
       "\n",
       "[3 rows x 79 columns]"
      ]
     },
     "execution_count": 8,
     "metadata": {},
     "output_type": "execute_result"
    }
   ],
   "source": [
    "path=os.getcwd().replace('\\\\','/')+'/housing_competition/test.csv'\n",
    "df_test = pd.read_csv(path)\n",
    "df_test = df_test.set_index('Id')\n",
    "#df.isna().sum()\n",
    "df_test.sample(3)"
   ]
  },
  {
   "cell_type": "code",
   "execution_count": 9,
   "id": "1094d9ea",
   "metadata": {},
   "outputs": [
    {
     "data": {
      "text/plain": [
       "(1459, 79)"
      ]
     },
     "execution_count": 9,
     "metadata": {},
     "output_type": "execute_result"
    }
   ],
   "source": [
    "df_test.shape"
   ]
  },
  {
   "cell_type": "code",
   "execution_count": 10,
   "id": "c08f6df9",
   "metadata": {},
   "outputs": [],
   "source": [
    "df_test['Age'] = 2010 - df_test.YearBuilt   \n",
    "df_test['AgeRemod'] = 2010 - df_test.YearRemodAdd   \n",
    "df_test['AgeGarage'] = 2010 - df_test.GarageYrBlt   \n",
    "df_test.drop(labels=['YearBuilt', 'YearRemodAdd', 'GarageYrBlt'], axis=1, inplace=True)"
   ]
  },
  {
   "cell_type": "markdown",
   "id": "e74e5464",
   "metadata": {},
   "source": [
    "### preprocessing pipeline"
   ]
  },
  {
   "cell_type": "code",
   "execution_count": 11,
   "id": "6e00436b",
   "metadata": {},
   "outputs": [],
   "source": [
    "X_num_col = X.select_dtypes(include=\"number\").copy().columns\n",
    "X_cat_ord_col = ['LotShape', 'Utilities', 'LandSlope', 'ExterQual', 'ExterCond', 'BsmtQual', 'BsmtFinType1','BsmtFinType2', 'HeatingQC', 'KitchenQual', 'Functional', 'FireplaceQu','GarageFinish', 'GarageQual', 'GarageCond', 'PoolQC']\n",
    "X_cat_col = [col for col in X.select_dtypes(exclude=\"number\").copy().columns if col not in X_cat_ord_col]"
   ]
  },
  {
   "cell_type": "code",
   "execution_count": 12,
   "id": "272c309e",
   "metadata": {},
   "outputs": [],
   "source": [
    "cat_list1 = ['Reg', 'IR1', 'IR2', 'IR3']\n",
    "cat_list2 = ['AllPub', 'NoSewr', 'NoSeWa', 'ELO']\n",
    "cat_list3 = ['Gtl', 'Mod', 'Sev']\n",
    "cat_list42 = ['Ex', 'Gd', 'TA', 'Fa']\n",
    "cat_list43 = ['Gd', 'TA', 'Fa', 'Po']\n",
    "cat_list4 = ['Ex', 'Gd', 'TA', 'Fa', 'Po']\n",
    "cat_list5 = ['Ex', 'Gd', 'TA', 'Fa', 'Po', 'NA']\n",
    "cat_list6 = ['Gd', 'Av', 'Mn', 'No']\n",
    "cat_list7 = ['GLQ', 'ALQ', 'BLQ', 'Rec', 'LwQ', 'Unf']\n",
    "cat_list8 = ['Typ', 'Min1', 'Min2', 'Mod', 'Maj1', 'Maj2', 'Sev', 'Sal']\n",
    "cat_list9 = ['Fin', 'RFn', 'Unf']\n",
    "cat_list10 = ['Ex', 'Gd', 'Fa']"
   ]
  },
  {
   "cell_type": "code",
   "execution_count": 13,
   "id": "e9e70fe5",
   "metadata": {},
   "outputs": [],
   "source": [
    "num_pipe = make_pipeline(\n",
    "    SimpleImputer(),\n",
    "    StandardScaler())\n",
    "\n",
    "ord_pipe = make_pipeline(\n",
    "    SimpleImputer(strategy=\"most_frequent\"),\n",
    "    OrdinalEncoder(categories=[cat_list1, cat_list2, cat_list3, cat_list4, cat_list4, cat_list4, cat_list7, cat_list7,cat_list4, cat_list4, cat_list8, cat_list4, cat_list9, cat_list4, cat_list4, cat_list10])\n",
    "    )\n",
    "\n",
    "\n",
    "cat_pipe = make_pipeline(\n",
    "    SimpleImputer(strategy=\"most_frequent\"),\n",
    "    OneHotEncoder(drop=\"first\", handle_unknown=\"ignore\", sparse=False))\n",
    "    \n",
    "cat_pipe_pca = make_pipeline(\n",
    "    SimpleImputer(strategy=\"most_frequent\"),\n",
    "    OneHotEncoder(drop=\"first\", handle_unknown=\"ignore\", sparse=False),\n",
    "    PCA(n_components=0.95))"
   ]
  },
  {
   "cell_type": "code",
   "execution_count": 14,
   "id": "c9f94a28",
   "metadata": {},
   "outputs": [],
   "source": [
    "preprocessor = ColumnTransformer(\n",
    "    transformers=[\n",
    "        (\"num_pipe\", num_pipe, X_num_col),\n",
    "        (\"ord_pipe\", ord_pipe, X_cat_ord_col),\n",
    "        (\"cat_pipe\", cat_pipe_pca, X_cat_col)])"
   ]
  },
  {
   "cell_type": "markdown",
   "id": "3f25a948",
   "metadata": {},
   "source": [
    "## models"
   ]
  },
  {
   "cell_type": "code",
   "execution_count": 15,
   "id": "61a416bd",
   "metadata": {},
   "outputs": [],
   "source": [
    "performances = {}"
   ]
  },
  {
   "cell_type": "markdown",
   "id": "1b98f973",
   "metadata": {},
   "source": [
    "### baseline decision tree"
   ]
  },
  {
   "cell_type": "code",
   "execution_count": 16,
   "id": "a31015c1",
   "metadata": {},
   "outputs": [
    {
     "name": "stderr",
     "output_type": "stream",
     "text": [
      "C:\\Users\\chicmachina\\anaconda3\\lib\\site-packages\\sklearn\\model_selection\\_validation.py:372: FitFailedWarning: \n",
      "10 fits failed out of a total of 50.\n",
      "The score on these train-test partitions for these parameters will be set to nan.\n",
      "If these failures are not expected, you can try to debug them by setting error_score='raise'.\n",
      "\n",
      "Below are more details about the failures:\n",
      "--------------------------------------------------------------------------------\n",
      "10 fits failed with the following error:\n",
      "Traceback (most recent call last):\n",
      "  File \"C:\\Users\\chicmachina\\anaconda3\\lib\\site-packages\\sklearn\\model_selection\\_validation.py\", line 680, in _fit_and_score\n",
      "    estimator.fit(X_train, y_train, **fit_params)\n",
      "  File \"C:\\Users\\chicmachina\\anaconda3\\lib\\site-packages\\sklearn\\pipeline.py\", line 390, in fit\n",
      "    Xt = self._fit(X, y, **fit_params_steps)\n",
      "  File \"C:\\Users\\chicmachina\\anaconda3\\lib\\site-packages\\sklearn\\pipeline.py\", line 348, in _fit\n",
      "    X, fitted_transformer = fit_transform_one_cached(\n",
      "  File \"C:\\Users\\chicmachina\\anaconda3\\lib\\site-packages\\joblib\\memory.py\", line 349, in __call__\n",
      "    return self.func(*args, **kwargs)\n",
      "  File \"C:\\Users\\chicmachina\\anaconda3\\lib\\site-packages\\sklearn\\pipeline.py\", line 893, in _fit_transform_one\n",
      "    res = transformer.fit_transform(X, y, **fit_params)\n",
      "  File \"C:\\Users\\chicmachina\\anaconda3\\lib\\site-packages\\sklearn\\compose\\_column_transformer.py\", line 675, in fit_transform\n",
      "    result = self._fit_transform(X, y, _fit_transform_one)\n",
      "  File \"C:\\Users\\chicmachina\\anaconda3\\lib\\site-packages\\sklearn\\compose\\_column_transformer.py\", line 606, in _fit_transform\n",
      "    return Parallel(n_jobs=self.n_jobs)(\n",
      "  File \"C:\\Users\\chicmachina\\anaconda3\\lib\\site-packages\\joblib\\parallel.py\", line 1046, in __call__\n",
      "    while self.dispatch_one_batch(iterator):\n",
      "  File \"C:\\Users\\chicmachina\\anaconda3\\lib\\site-packages\\joblib\\parallel.py\", line 861, in dispatch_one_batch\n",
      "    self._dispatch(tasks)\n",
      "  File \"C:\\Users\\chicmachina\\anaconda3\\lib\\site-packages\\joblib\\parallel.py\", line 779, in _dispatch\n",
      "    job = self._backend.apply_async(batch, callback=cb)\n",
      "  File \"C:\\Users\\chicmachina\\anaconda3\\lib\\site-packages\\joblib\\_parallel_backends.py\", line 208, in apply_async\n",
      "    result = ImmediateResult(func)\n",
      "  File \"C:\\Users\\chicmachina\\anaconda3\\lib\\site-packages\\joblib\\_parallel_backends.py\", line 572, in __init__\n",
      "    self.results = batch()\n",
      "  File \"C:\\Users\\chicmachina\\anaconda3\\lib\\site-packages\\joblib\\parallel.py\", line 262, in __call__\n",
      "    return [func(*args, **kwargs)\n",
      "  File \"C:\\Users\\chicmachina\\anaconda3\\lib\\site-packages\\joblib\\parallel.py\", line 262, in <listcomp>\n",
      "    return [func(*args, **kwargs)\n",
      "  File \"C:\\Users\\chicmachina\\anaconda3\\lib\\site-packages\\sklearn\\utils\\fixes.py\", line 216, in __call__\n",
      "    return self.function(*args, **kwargs)\n",
      "  File \"C:\\Users\\chicmachina\\anaconda3\\lib\\site-packages\\sklearn\\pipeline.py\", line 893, in _fit_transform_one\n",
      "    res = transformer.fit_transform(X, y, **fit_params)\n",
      "  File \"C:\\Users\\chicmachina\\anaconda3\\lib\\site-packages\\sklearn\\pipeline.py\", line 434, in fit_transform\n",
      "    return last_step.fit_transform(Xt, y, **fit_params_last_step)\n",
      "  File \"C:\\Users\\chicmachina\\anaconda3\\lib\\site-packages\\sklearn\\base.py\", line 855, in fit_transform\n",
      "    return self.fit(X, y, **fit_params).transform(X)\n",
      "  File \"C:\\Users\\chicmachina\\anaconda3\\lib\\site-packages\\sklearn\\preprocessing\\_encoders.py\", line 886, in fit\n",
      "    self._fit(X, handle_unknown=self.handle_unknown, force_all_finite=\"allow-nan\")\n",
      "  File \"C:\\Users\\chicmachina\\anaconda3\\lib\\site-packages\\sklearn\\preprocessing\\_encoders.py\", line 84, in _fit\n",
      "    raise ValueError(\n",
      "ValueError: Shape mismatch: if categories is an array, it has to be of shape (n_features,).\n",
      "\n",
      "  warnings.warn(some_fits_failed_message, FitFailedWarning)\n",
      "C:\\Users\\chicmachina\\anaconda3\\lib\\site-packages\\sklearn\\model_selection\\_search.py:969: UserWarning: One or more of the test scores are non-finite: [nan nan nan nan nan nan nan nan nan nan]\n",
      "  warnings.warn(\n"
     ]
    },
    {
     "data": {
      "text/plain": [
       "RandomizedSearchCV(cv=5,\n",
       "                   estimator=Pipeline(steps=[('columntransformer',\n",
       "                                              ColumnTransformer(transformers=[('num_pipe',\n",
       "                                                                               Pipeline(steps=[('simpleimputer',\n",
       "                                                                                                SimpleImputer()),\n",
       "                                                                                               ('standardscaler',\n",
       "                                                                                                StandardScaler())]),\n",
       "                                                                               Index(['MSSubClass', 'LotFrontage', 'LotArea', 'OverallQual', 'OverallCond',\n",
       "       'MasVnrArea', 'BsmtFinSF1', 'BsmtFinSF2', 'BsmtUnfSF', 'TotalBsmtSF',\n",
       "       '1stFlrSF'...\n",
       "                                                                                'MiscFeature',\n",
       "                                                                                'SaleType',\n",
       "                                                                                'SaleCondition'])])),\n",
       "                                             ('decisiontreeregressor',\n",
       "                                              DecisionTreeRegressor())]),\n",
       "                   n_jobs=4,\n",
       "                   param_distributions={'columntransformer__num_pipe__simpleimputer__strategy': ['mean',\n",
       "                                                                                                 'median'],\n",
       "                                        'decisiontreeregressor__max_depth': range(2, 8),\n",
       "                                        'decisiontreeregressor__min_samples_leaf': range(3, 12)},\n",
       "                   random_state=123, scoring='neg_root_mean_squared_error')"
      ]
     },
     "execution_count": 16,
     "metadata": {},
     "output_type": "execute_result"
    }
   ],
   "source": [
    "# Decision tree\n",
    "from sklearn.tree import DecisionTreeRegressor\n",
    "full_pipe_dt = make_pipeline(\n",
    "    preprocessor,\n",
    "    DecisionTreeRegressor())\n",
    "\n",
    "param_grid_dt = {\n",
    "    \"columntransformer__num_pipe__simpleimputer__strategy\":['mean','median'], \n",
    "    \"decisiontreeregressor__max_depth\": range(2, 8),\n",
    "    \"decisiontreeregressor__min_samples_leaf\": range(3, 12)\n",
    "}\n",
    "\n",
    "dt_search = RandomizedSearchCV(full_pipe_dt,\n",
    "                                   param_grid_dt,\n",
    "                                   scoring=\"neg_root_mean_squared_error\",\n",
    "                                   n_iter=10,\n",
    "                                   cv=5,\n",
    "                                   n_jobs=4,\n",
    "                                   random_state=123)\n",
    "\n",
    "dt_search.fit(X_train, y_train)"
   ]
  },
  {
   "cell_type": "code",
   "execution_count": 21,
   "id": "937abb91",
   "metadata": {},
   "outputs": [
    {
     "data": {
      "text/plain": [
       "{'decisiontreeregressor__min_samples_leaf': 6,\n",
       " 'decisiontreeregressor__max_depth': 5,\n",
       " 'columntransformer__num_pipe__simpleimputer__strategy': 'median'}"
      ]
     },
     "execution_count": 21,
     "metadata": {},
     "output_type": "execute_result"
    }
   ],
   "source": [
    "dt_search.best_params_"
   ]
  },
  {
   "cell_type": "code",
   "execution_count": 26,
   "id": "7c386cbe",
   "metadata": {},
   "outputs": [
    {
     "name": "stderr",
     "output_type": "stream",
     "text": [
      "C:\\Users\\chicmachina\\anaconda3\\lib\\site-packages\\sklearn\\preprocessing\\_encoders.py:170: UserWarning: Found unknown categories in columns [11, 12, 13] during transform. These unknown categories will be encoded as all zeros\n",
      "  warnings.warn(\n"
     ]
    }
   ],
   "source": [
    "y_pred = dt_search.predict(X_test)"
   ]
  },
  {
   "cell_type": "code",
   "execution_count": 30,
   "id": "68b94fc9",
   "metadata": {},
   "outputs": [
    {
     "data": {
      "text/plain": [
       "{'baseline_tree': 43879.873518573455}"
      ]
     },
     "execution_count": 30,
     "metadata": {},
     "output_type": "execute_result"
    }
   ],
   "source": [
    "performances[\"baseline_tree\"]= mean_squared_error(y_test, y_pred, squared=False)\n",
    "performances"
   ]
  },
  {
   "cell_type": "markdown",
   "id": "0cb68d0e",
   "metadata": {},
   "source": [
    "### baseline Knearest"
   ]
  },
  {
   "cell_type": "code",
   "execution_count": 32,
   "id": "210446b0",
   "metadata": {},
   "outputs": [],
   "source": [
    "# K Nearest neighbors\n",
    "from sklearn.neighbors import KNeighborsRegressor\n",
    "full_pipe_kn = make_pipeline(\n",
    "    preprocessor,\n",
    "    KNeighborsRegressor())\n",
    "\n",
    "param_grid_kn = {\n",
    "    \"columntransformer__num_pipe__simpleimputer__strategy\":['mean','median'], \n",
    "    \"kneighborsregressor__n_neighbors\": range(3, 8, 2) ,\n",
    "    \"kneighborsregressor__weights\": ['uniform', 'distance']\n",
    "}\n",
    "\n",
    "kn_search = RandomizedSearchCV(full_pipe_kn,\n",
    "                                   param_grid_kn,\n",
    "                                   scoring=\"neg_root_mean_squared_error\",\n",
    "                                   n_iter=10,\n",
    "                                   cv=5,\n",
    "                                   n_jobs=4,\n",
    "                                   random_state=123)"
   ]
  },
  {
   "cell_type": "code",
   "execution_count": 33,
   "id": "79097033",
   "metadata": {},
   "outputs": [
    {
     "name": "stderr",
     "output_type": "stream",
     "text": [
      "C:\\Users\\chicmachina\\anaconda3\\lib\\site-packages\\sklearn\\model_selection\\_validation.py:372: FitFailedWarning: \n",
      "10 fits failed out of a total of 50.\n",
      "The score on these train-test partitions for these parameters will be set to nan.\n",
      "If these failures are not expected, you can try to debug them by setting error_score='raise'.\n",
      "\n",
      "Below are more details about the failures:\n",
      "--------------------------------------------------------------------------------\n",
      "10 fits failed with the following error:\n",
      "Traceback (most recent call last):\n",
      "  File \"C:\\Users\\chicmachina\\anaconda3\\lib\\site-packages\\sklearn\\model_selection\\_validation.py\", line 680, in _fit_and_score\n",
      "    estimator.fit(X_train, y_train, **fit_params)\n",
      "  File \"C:\\Users\\chicmachina\\anaconda3\\lib\\site-packages\\sklearn\\pipeline.py\", line 390, in fit\n",
      "    Xt = self._fit(X, y, **fit_params_steps)\n",
      "  File \"C:\\Users\\chicmachina\\anaconda3\\lib\\site-packages\\sklearn\\pipeline.py\", line 348, in _fit\n",
      "    X, fitted_transformer = fit_transform_one_cached(\n",
      "  File \"C:\\Users\\chicmachina\\anaconda3\\lib\\site-packages\\joblib\\memory.py\", line 349, in __call__\n",
      "    return self.func(*args, **kwargs)\n",
      "  File \"C:\\Users\\chicmachina\\anaconda3\\lib\\site-packages\\sklearn\\pipeline.py\", line 893, in _fit_transform_one\n",
      "    res = transformer.fit_transform(X, y, **fit_params)\n",
      "  File \"C:\\Users\\chicmachina\\anaconda3\\lib\\site-packages\\sklearn\\compose\\_column_transformer.py\", line 675, in fit_transform\n",
      "    result = self._fit_transform(X, y, _fit_transform_one)\n",
      "  File \"C:\\Users\\chicmachina\\anaconda3\\lib\\site-packages\\sklearn\\compose\\_column_transformer.py\", line 606, in _fit_transform\n",
      "    return Parallel(n_jobs=self.n_jobs)(\n",
      "  File \"C:\\Users\\chicmachina\\anaconda3\\lib\\site-packages\\joblib\\parallel.py\", line 1046, in __call__\n",
      "    while self.dispatch_one_batch(iterator):\n",
      "  File \"C:\\Users\\chicmachina\\anaconda3\\lib\\site-packages\\joblib\\parallel.py\", line 861, in dispatch_one_batch\n",
      "    self._dispatch(tasks)\n",
      "  File \"C:\\Users\\chicmachina\\anaconda3\\lib\\site-packages\\joblib\\parallel.py\", line 779, in _dispatch\n",
      "    job = self._backend.apply_async(batch, callback=cb)\n",
      "  File \"C:\\Users\\chicmachina\\anaconda3\\lib\\site-packages\\joblib\\_parallel_backends.py\", line 208, in apply_async\n",
      "    result = ImmediateResult(func)\n",
      "  File \"C:\\Users\\chicmachina\\anaconda3\\lib\\site-packages\\joblib\\_parallel_backends.py\", line 572, in __init__\n",
      "    self.results = batch()\n",
      "  File \"C:\\Users\\chicmachina\\anaconda3\\lib\\site-packages\\joblib\\parallel.py\", line 262, in __call__\n",
      "    return [func(*args, **kwargs)\n",
      "  File \"C:\\Users\\chicmachina\\anaconda3\\lib\\site-packages\\joblib\\parallel.py\", line 262, in <listcomp>\n",
      "    return [func(*args, **kwargs)\n",
      "  File \"C:\\Users\\chicmachina\\anaconda3\\lib\\site-packages\\sklearn\\utils\\fixes.py\", line 216, in __call__\n",
      "    return self.function(*args, **kwargs)\n",
      "  File \"C:\\Users\\chicmachina\\anaconda3\\lib\\site-packages\\sklearn\\pipeline.py\", line 893, in _fit_transform_one\n",
      "    res = transformer.fit_transform(X, y, **fit_params)\n",
      "  File \"C:\\Users\\chicmachina\\anaconda3\\lib\\site-packages\\sklearn\\pipeline.py\", line 434, in fit_transform\n",
      "    return last_step.fit_transform(Xt, y, **fit_params_last_step)\n",
      "  File \"C:\\Users\\chicmachina\\anaconda3\\lib\\site-packages\\sklearn\\base.py\", line 855, in fit_transform\n",
      "    return self.fit(X, y, **fit_params).transform(X)\n",
      "  File \"C:\\Users\\chicmachina\\anaconda3\\lib\\site-packages\\sklearn\\preprocessing\\_encoders.py\", line 886, in fit\n",
      "    self._fit(X, handle_unknown=self.handle_unknown, force_all_finite=\"allow-nan\")\n",
      "  File \"C:\\Users\\chicmachina\\anaconda3\\lib\\site-packages\\sklearn\\preprocessing\\_encoders.py\", line 84, in _fit\n",
      "    raise ValueError(\n",
      "ValueError: Shape mismatch: if categories is an array, it has to be of shape (n_features,).\n",
      "\n",
      "  warnings.warn(some_fits_failed_message, FitFailedWarning)\n",
      "C:\\Users\\chicmachina\\anaconda3\\lib\\site-packages\\sklearn\\model_selection\\_search.py:969: UserWarning: One or more of the test scores are non-finite: [nan nan nan nan nan nan nan nan nan nan]\n",
      "  warnings.warn(\n"
     ]
    },
    {
     "data": {
      "text/plain": [
       "{'kneighborsregressor__weights': 'distance',\n",
       " 'kneighborsregressor__n_neighbors': 7,\n",
       " 'columntransformer__num_pipe__simpleimputer__strategy': 'mean'}"
      ]
     },
     "execution_count": 33,
     "metadata": {},
     "output_type": "execute_result"
    }
   ],
   "source": [
    "kn_search.fit(X_train, y_train)\n",
    "\n",
    "kn_search.best_params_"
   ]
  },
  {
   "cell_type": "code",
   "execution_count": 35,
   "id": "3a867409",
   "metadata": {},
   "outputs": [
    {
     "name": "stderr",
     "output_type": "stream",
     "text": [
      "C:\\Users\\chicmachina\\anaconda3\\lib\\site-packages\\sklearn\\preprocessing\\_encoders.py:170: UserWarning: Found unknown categories in columns [11, 12, 13] during transform. These unknown categories will be encoded as all zeros\n",
      "  warnings.warn(\n"
     ]
    }
   ],
   "source": [
    "y_pred = kn_search.predict(X_test)"
   ]
  },
  {
   "cell_type": "code",
   "execution_count": 37,
   "id": "af4c62b7",
   "metadata": {},
   "outputs": [
    {
     "data": {
      "text/plain": [
       "{'baseline_tree': 43879.873518573455, 'baseline_KNear': 30674.17660600554}"
      ]
     },
     "execution_count": 37,
     "metadata": {},
     "output_type": "execute_result"
    }
   ],
   "source": [
    "performances[\"baseline_KNear\"]= mean_squared_error(y_test, y_pred, squared=False)\n",
    "performances"
   ]
  },
  {
   "cell_type": "markdown",
   "id": "42437249",
   "metadata": {},
   "source": [
    "### baseline OLS"
   ]
  },
  {
   "cell_type": "code",
   "execution_count": 38,
   "id": "0e3cbcf3",
   "metadata": {},
   "outputs": [],
   "source": [
    "# OLS\n",
    "from sklearn.linear_model import LinearRegression\n",
    "full_pipe_ols = make_pipeline(\n",
    "    preprocessor,\n",
    "    LinearRegression())\n",
    "\n",
    "param_grid_ols = {\n",
    "    \"columntransformer__num_pipe__simpleimputer__strategy\":['mean','median']\n",
    "}\n",
    "\n",
    "ols_search = RandomizedSearchCV(full_pipe_ols,\n",
    "                                   param_grid_ols,\n",
    "                                   scoring=\"neg_root_mean_squared_error\",\n",
    "                                   n_iter=10,\n",
    "                                   cv=5,\n",
    "                                   n_jobs=4,\n",
    "                                   random_state=123)"
   ]
  },
  {
   "cell_type": "code",
   "execution_count": 39,
   "id": "8993aca0",
   "metadata": {},
   "outputs": [
    {
     "name": "stderr",
     "output_type": "stream",
     "text": [
      "C:\\Users\\chicmachina\\anaconda3\\lib\\site-packages\\sklearn\\model_selection\\_search.py:292: UserWarning: The total space of parameters 2 is smaller than n_iter=10. Running 2 iterations. For exhaustive searches, use GridSearchCV.\n",
      "  warnings.warn(\n",
      "C:\\Users\\chicmachina\\anaconda3\\lib\\site-packages\\sklearn\\model_selection\\_validation.py:372: FitFailedWarning: \n",
      "2 fits failed out of a total of 10.\n",
      "The score on these train-test partitions for these parameters will be set to nan.\n",
      "If these failures are not expected, you can try to debug them by setting error_score='raise'.\n",
      "\n",
      "Below are more details about the failures:\n",
      "--------------------------------------------------------------------------------\n",
      "2 fits failed with the following error:\n",
      "Traceback (most recent call last):\n",
      "  File \"C:\\Users\\chicmachina\\anaconda3\\lib\\site-packages\\sklearn\\model_selection\\_validation.py\", line 680, in _fit_and_score\n",
      "    estimator.fit(X_train, y_train, **fit_params)\n",
      "  File \"C:\\Users\\chicmachina\\anaconda3\\lib\\site-packages\\sklearn\\pipeline.py\", line 390, in fit\n",
      "    Xt = self._fit(X, y, **fit_params_steps)\n",
      "  File \"C:\\Users\\chicmachina\\anaconda3\\lib\\site-packages\\sklearn\\pipeline.py\", line 348, in _fit\n",
      "    X, fitted_transformer = fit_transform_one_cached(\n",
      "  File \"C:\\Users\\chicmachina\\anaconda3\\lib\\site-packages\\joblib\\memory.py\", line 349, in __call__\n",
      "    return self.func(*args, **kwargs)\n",
      "  File \"C:\\Users\\chicmachina\\anaconda3\\lib\\site-packages\\sklearn\\pipeline.py\", line 893, in _fit_transform_one\n",
      "    res = transformer.fit_transform(X, y, **fit_params)\n",
      "  File \"C:\\Users\\chicmachina\\anaconda3\\lib\\site-packages\\sklearn\\compose\\_column_transformer.py\", line 675, in fit_transform\n",
      "    result = self._fit_transform(X, y, _fit_transform_one)\n",
      "  File \"C:\\Users\\chicmachina\\anaconda3\\lib\\site-packages\\sklearn\\compose\\_column_transformer.py\", line 606, in _fit_transform\n",
      "    return Parallel(n_jobs=self.n_jobs)(\n",
      "  File \"C:\\Users\\chicmachina\\anaconda3\\lib\\site-packages\\joblib\\parallel.py\", line 1046, in __call__\n",
      "    while self.dispatch_one_batch(iterator):\n",
      "  File \"C:\\Users\\chicmachina\\anaconda3\\lib\\site-packages\\joblib\\parallel.py\", line 861, in dispatch_one_batch\n",
      "    self._dispatch(tasks)\n",
      "  File \"C:\\Users\\chicmachina\\anaconda3\\lib\\site-packages\\joblib\\parallel.py\", line 779, in _dispatch\n",
      "    job = self._backend.apply_async(batch, callback=cb)\n",
      "  File \"C:\\Users\\chicmachina\\anaconda3\\lib\\site-packages\\joblib\\_parallel_backends.py\", line 208, in apply_async\n",
      "    result = ImmediateResult(func)\n",
      "  File \"C:\\Users\\chicmachina\\anaconda3\\lib\\site-packages\\joblib\\_parallel_backends.py\", line 572, in __init__\n",
      "    self.results = batch()\n",
      "  File \"C:\\Users\\chicmachina\\anaconda3\\lib\\site-packages\\joblib\\parallel.py\", line 262, in __call__\n",
      "    return [func(*args, **kwargs)\n",
      "  File \"C:\\Users\\chicmachina\\anaconda3\\lib\\site-packages\\joblib\\parallel.py\", line 262, in <listcomp>\n",
      "    return [func(*args, **kwargs)\n",
      "  File \"C:\\Users\\chicmachina\\anaconda3\\lib\\site-packages\\sklearn\\utils\\fixes.py\", line 216, in __call__\n",
      "    return self.function(*args, **kwargs)\n",
      "  File \"C:\\Users\\chicmachina\\anaconda3\\lib\\site-packages\\sklearn\\pipeline.py\", line 893, in _fit_transform_one\n",
      "    res = transformer.fit_transform(X, y, **fit_params)\n",
      "  File \"C:\\Users\\chicmachina\\anaconda3\\lib\\site-packages\\sklearn\\pipeline.py\", line 434, in fit_transform\n",
      "    return last_step.fit_transform(Xt, y, **fit_params_last_step)\n",
      "  File \"C:\\Users\\chicmachina\\anaconda3\\lib\\site-packages\\sklearn\\base.py\", line 855, in fit_transform\n",
      "    return self.fit(X, y, **fit_params).transform(X)\n",
      "  File \"C:\\Users\\chicmachina\\anaconda3\\lib\\site-packages\\sklearn\\preprocessing\\_encoders.py\", line 886, in fit\n",
      "    self._fit(X, handle_unknown=self.handle_unknown, force_all_finite=\"allow-nan\")\n",
      "  File \"C:\\Users\\chicmachina\\anaconda3\\lib\\site-packages\\sklearn\\preprocessing\\_encoders.py\", line 84, in _fit\n",
      "    raise ValueError(\n",
      "ValueError: Shape mismatch: if categories is an array, it has to be of shape (n_features,).\n",
      "\n",
      "  warnings.warn(some_fits_failed_message, FitFailedWarning)\n",
      "C:\\Users\\chicmachina\\anaconda3\\lib\\site-packages\\sklearn\\model_selection\\_search.py:969: UserWarning: One or more of the test scores are non-finite: [nan nan]\n",
      "  warnings.warn(\n"
     ]
    },
    {
     "data": {
      "text/plain": [
       "RandomizedSearchCV(cv=5,\n",
       "                   estimator=Pipeline(steps=[('columntransformer',\n",
       "                                              ColumnTransformer(transformers=[('num_pipe',\n",
       "                                                                               Pipeline(steps=[('simpleimputer',\n",
       "                                                                                                SimpleImputer()),\n",
       "                                                                                               ('standardscaler',\n",
       "                                                                                                StandardScaler())]),\n",
       "                                                                               Index(['MSSubClass', 'LotFrontage', 'LotArea', 'OverallQual', 'OverallCond',\n",
       "       'MasVnrArea', 'BsmtFinSF1', 'BsmtFinSF2', 'BsmtUnfSF', 'TotalBsmtSF',\n",
       "       '1stFlrSF'...\n",
       "                                                                                'Foundation',\n",
       "                                                                                'BsmtCond',\n",
       "                                                                                'BsmtExposure',\n",
       "                                                                                'Heating',\n",
       "                                                                                'CentralAir',\n",
       "                                                                                'Electrical',\n",
       "                                                                                'GarageType',\n",
       "                                                                                'PavedDrive',\n",
       "                                                                                'Fence',\n",
       "                                                                                'MiscFeature',\n",
       "                                                                                'SaleType',\n",
       "                                                                                'SaleCondition'])])),\n",
       "                                             ('linearregression',\n",
       "                                              LinearRegression())]),\n",
       "                   n_jobs=4,\n",
       "                   param_distributions={'columntransformer__num_pipe__simpleimputer__strategy': ['mean',\n",
       "                                                                                                 'median']},\n",
       "                   random_state=123, scoring='neg_root_mean_squared_error')"
      ]
     },
     "execution_count": 39,
     "metadata": {},
     "output_type": "execute_result"
    }
   ],
   "source": [
    "ols_search.fit(X_train, y_train)"
   ]
  },
  {
   "cell_type": "code",
   "execution_count": 40,
   "id": "a1e5c053",
   "metadata": {},
   "outputs": [
    {
     "data": {
      "text/plain": [
       "{'columntransformer__num_pipe__simpleimputer__strategy': 'mean'}"
      ]
     },
     "execution_count": 40,
     "metadata": {},
     "output_type": "execute_result"
    }
   ],
   "source": [
    "ols_search.best_params_"
   ]
  },
  {
   "cell_type": "code",
   "execution_count": 308,
   "id": "a6e3b01f",
   "metadata": {},
   "outputs": [],
   "source": [
    "#tree_pred = ols_search.predict(df_test)"
   ]
  },
  {
   "cell_type": "code",
   "execution_count": 41,
   "id": "9c49b9a3",
   "metadata": {},
   "outputs": [
    {
     "name": "stderr",
     "output_type": "stream",
     "text": [
      "C:\\Users\\chicmachina\\anaconda3\\lib\\site-packages\\sklearn\\preprocessing\\_encoders.py:170: UserWarning: Found unknown categories in columns [11, 12, 13] during transform. These unknown categories will be encoded as all zeros\n",
      "  warnings.warn(\n"
     ]
    }
   ],
   "source": [
    "y_pred = ols_search.predict(X_test)"
   ]
  },
  {
   "cell_type": "code",
   "execution_count": 42,
   "id": "afb6ff79",
   "metadata": {},
   "outputs": [
    {
     "data": {
      "text/plain": [
       "{'baseline_tree': 43879.873518573455,\n",
       " 'baseline_KNear': 30674.17660600554,\n",
       " 'baseline_OLS': 6337158731047.73}"
      ]
     },
     "execution_count": 42,
     "metadata": {},
     "output_type": "execute_result"
    }
   ],
   "source": [
    "performances[\"baseline_OLS\"]= mean_squared_error(y_test, y_pred, squared=False)\n",
    "performances"
   ]
  },
  {
   "cell_type": "markdown",
   "id": "2eeaa6bb",
   "metadata": {},
   "source": [
    "### feature selection from model"
   ]
  },
  {
   "cell_type": "code",
   "execution_count": 106,
   "id": "a7f96408",
   "metadata": {},
   "outputs": [],
   "source": [
    "from sklearn.feature_selection import SelectFromModel"
   ]
  },
  {
   "cell_type": "markdown",
   "id": "6be2273b",
   "metadata": {},
   "source": [
    "### Decision tree"
   ]
  },
  {
   "cell_type": "code",
   "execution_count": 108,
   "id": "07505f1d",
   "metadata": {},
   "outputs": [
    {
     "name": "stderr",
     "output_type": "stream",
     "text": [
      "C:\\Users\\chicmachina\\anaconda3\\lib\\site-packages\\sklearn\\model_selection\\_validation.py:372: FitFailedWarning: \n",
      "10 fits failed out of a total of 50.\n",
      "The score on these train-test partitions for these parameters will be set to nan.\n",
      "If these failures are not expected, you can try to debug them by setting error_score='raise'.\n",
      "\n",
      "Below are more details about the failures:\n",
      "--------------------------------------------------------------------------------\n",
      "10 fits failed with the following error:\n",
      "Traceback (most recent call last):\n",
      "  File \"C:\\Users\\chicmachina\\anaconda3\\lib\\site-packages\\sklearn\\model_selection\\_validation.py\", line 680, in _fit_and_score\n",
      "    estimator.fit(X_train, y_train, **fit_params)\n",
      "  File \"C:\\Users\\chicmachina\\anaconda3\\lib\\site-packages\\sklearn\\pipeline.py\", line 390, in fit\n",
      "    Xt = self._fit(X, y, **fit_params_steps)\n",
      "  File \"C:\\Users\\chicmachina\\anaconda3\\lib\\site-packages\\sklearn\\pipeline.py\", line 348, in _fit\n",
      "    X, fitted_transformer = fit_transform_one_cached(\n",
      "  File \"C:\\Users\\chicmachina\\anaconda3\\lib\\site-packages\\joblib\\memory.py\", line 349, in __call__\n",
      "    return self.func(*args, **kwargs)\n",
      "  File \"C:\\Users\\chicmachina\\anaconda3\\lib\\site-packages\\sklearn\\pipeline.py\", line 893, in _fit_transform_one\n",
      "    res = transformer.fit_transform(X, y, **fit_params)\n",
      "  File \"C:\\Users\\chicmachina\\anaconda3\\lib\\site-packages\\sklearn\\compose\\_column_transformer.py\", line 675, in fit_transform\n",
      "    result = self._fit_transform(X, y, _fit_transform_one)\n",
      "  File \"C:\\Users\\chicmachina\\anaconda3\\lib\\site-packages\\sklearn\\compose\\_column_transformer.py\", line 606, in _fit_transform\n",
      "    return Parallel(n_jobs=self.n_jobs)(\n",
      "  File \"C:\\Users\\chicmachina\\anaconda3\\lib\\site-packages\\joblib\\parallel.py\", line 1046, in __call__\n",
      "    while self.dispatch_one_batch(iterator):\n",
      "  File \"C:\\Users\\chicmachina\\anaconda3\\lib\\site-packages\\joblib\\parallel.py\", line 861, in dispatch_one_batch\n",
      "    self._dispatch(tasks)\n",
      "  File \"C:\\Users\\chicmachina\\anaconda3\\lib\\site-packages\\joblib\\parallel.py\", line 779, in _dispatch\n",
      "    job = self._backend.apply_async(batch, callback=cb)\n",
      "  File \"C:\\Users\\chicmachina\\anaconda3\\lib\\site-packages\\joblib\\_parallel_backends.py\", line 208, in apply_async\n",
      "    result = ImmediateResult(func)\n",
      "  File \"C:\\Users\\chicmachina\\anaconda3\\lib\\site-packages\\joblib\\_parallel_backends.py\", line 572, in __init__\n",
      "    self.results = batch()\n",
      "  File \"C:\\Users\\chicmachina\\anaconda3\\lib\\site-packages\\joblib\\parallel.py\", line 262, in __call__\n",
      "    return [func(*args, **kwargs)\n",
      "  File \"C:\\Users\\chicmachina\\anaconda3\\lib\\site-packages\\joblib\\parallel.py\", line 262, in <listcomp>\n",
      "    return [func(*args, **kwargs)\n",
      "  File \"C:\\Users\\chicmachina\\anaconda3\\lib\\site-packages\\sklearn\\utils\\fixes.py\", line 216, in __call__\n",
      "    return self.function(*args, **kwargs)\n",
      "  File \"C:\\Users\\chicmachina\\anaconda3\\lib\\site-packages\\sklearn\\pipeline.py\", line 893, in _fit_transform_one\n",
      "    res = transformer.fit_transform(X, y, **fit_params)\n",
      "  File \"C:\\Users\\chicmachina\\anaconda3\\lib\\site-packages\\sklearn\\pipeline.py\", line 434, in fit_transform\n",
      "    return last_step.fit_transform(Xt, y, **fit_params_last_step)\n",
      "  File \"C:\\Users\\chicmachina\\anaconda3\\lib\\site-packages\\sklearn\\base.py\", line 855, in fit_transform\n",
      "    return self.fit(X, y, **fit_params).transform(X)\n",
      "  File \"C:\\Users\\chicmachina\\anaconda3\\lib\\site-packages\\sklearn\\preprocessing\\_encoders.py\", line 886, in fit\n",
      "    self._fit(X, handle_unknown=self.handle_unknown, force_all_finite=\"allow-nan\")\n",
      "  File \"C:\\Users\\chicmachina\\anaconda3\\lib\\site-packages\\sklearn\\preprocessing\\_encoders.py\", line 84, in _fit\n",
      "    raise ValueError(\n",
      "ValueError: Shape mismatch: if categories is an array, it has to be of shape (n_features,).\n",
      "\n",
      "  warnings.warn(some_fits_failed_message, FitFailedWarning)\n",
      "C:\\Users\\chicmachina\\anaconda3\\lib\\site-packages\\sklearn\\model_selection\\_search.py:969: UserWarning: One or more of the test scores are non-finite: [nan nan nan nan nan nan nan nan nan nan]\n",
      "  warnings.warn(\n"
     ]
    },
    {
     "data": {
      "text/plain": [
       "RandomizedSearchCV(cv=5,\n",
       "                   estimator=Pipeline(steps=[('columntransformer',\n",
       "                                              ColumnTransformer(transformers=[('num_pipe',\n",
       "                                                                               Pipeline(steps=[('simpleimputer',\n",
       "                                                                                                SimpleImputer()),\n",
       "                                                                                               ('standardscaler',\n",
       "                                                                                                StandardScaler())]),\n",
       "                                                                               Index(['MSSubClass', 'LotFrontage', 'LotArea', 'OverallQual', 'OverallCond',\n",
       "       'MasVnrArea', 'BsmtFinSF1', 'BsmtFinSF2', 'BsmtUnfSF', 'TotalBsmtSF',\n",
       "       '1stFlrSF'...\n",
       "                   param_distributions={'columntransformer__num_pipe__simpleimputer__strategy': ['mean',\n",
       "                                                                                                 'median'],\n",
       "                                        'decisiontreeregressor__max_depth': range(2, 8),\n",
       "                                        'decisiontreeregressor__min_samples_leaf': range(3, 12),\n",
       "                                        'selectfrommodel__estimator__max_depth': range(2, 8),\n",
       "                                        'selectfrommodel__estimator__min_samples_leaf': range(3, 12)},\n",
       "                   random_state=123, scoring='neg_root_mean_squared_error')"
      ]
     },
     "execution_count": 108,
     "metadata": {},
     "output_type": "execute_result"
    }
   ],
   "source": [
    "# Decision tree\n",
    "from sklearn.tree import DecisionTreeRegressor\n",
    "full_pipe_dt = make_pipeline(\n",
    "    preprocessor,\n",
    "    SelectFromModel(DecisionTreeRegressor()),\n",
    "    DecisionTreeRegressor())\n",
    "\n",
    "param_grid_dt = {\n",
    "    \"columntransformer__num_pipe__simpleimputer__strategy\":['mean','median'], \n",
    "    \"selectfrommodel__estimator__max_depth\": range(2,8),\n",
    "    \"selectfrommodel__estimator__min_samples_leaf\": range(3,12),\n",
    "    \"decisiontreeregressor__max_depth\": range(2, 8),\n",
    "    \"decisiontreeregressor__min_samples_leaf\": range(3, 12)\n",
    "}\n",
    "\n",
    "dt_search = RandomizedSearchCV(full_pipe_dt,\n",
    "                                   param_grid_dt,\n",
    "                                   scoring=\"neg_root_mean_squared_error\",\n",
    "                                   n_iter=10,\n",
    "                                   cv=5,\n",
    "                                   n_jobs=4,\n",
    "                                   random_state=123)\n",
    "\n",
    "dt_search.fit(X_train, y_train)"
   ]
  },
  {
   "cell_type": "code",
   "execution_count": 109,
   "id": "2013efe9",
   "metadata": {},
   "outputs": [
    {
     "data": {
      "text/plain": [
       "{'selectfrommodel__estimator__min_samples_leaf': 3,\n",
       " 'selectfrommodel__estimator__max_depth': 4,\n",
       " 'decisiontreeregressor__min_samples_leaf': 6,\n",
       " 'decisiontreeregressor__max_depth': 3,\n",
       " 'columntransformer__num_pipe__simpleimputer__strategy': 'median'}"
      ]
     },
     "execution_count": 109,
     "metadata": {},
     "output_type": "execute_result"
    }
   ],
   "source": [
    "dt_search.best_params_"
   ]
  },
  {
   "cell_type": "code",
   "execution_count": 111,
   "id": "0832d638",
   "metadata": {},
   "outputs": [
    {
     "name": "stderr",
     "output_type": "stream",
     "text": [
      "C:\\Users\\chicmachina\\anaconda3\\lib\\site-packages\\sklearn\\preprocessing\\_encoders.py:170: UserWarning: Found unknown categories in columns [11, 12, 13] during transform. These unknown categories will be encoded as all zeros\n",
      "  warnings.warn(\n"
     ]
    }
   ],
   "source": [
    "y_pred = dt_search.predict(X_test)"
   ]
  },
  {
   "cell_type": "code",
   "execution_count": 112,
   "id": "328951b3",
   "metadata": {},
   "outputs": [
    {
     "data": {
      "text/plain": [
       "{'baseline_tree': 43879.873518573455,\n",
       " 'baseline_KNear': 30674.17660600554,\n",
       " 'baseline_OLS': 6337158731047.73,\n",
       " 'modelselect_tree': 42606.33604125767}"
      ]
     },
     "execution_count": 112,
     "metadata": {},
     "output_type": "execute_result"
    }
   ],
   "source": [
    "performances[\"modelselect_tree\"]= mean_squared_error(y_test, y_pred, squared=False)\n",
    "performances"
   ]
  },
  {
   "cell_type": "markdown",
   "id": "2a5b266a",
   "metadata": {},
   "source": [
    "### KNearest"
   ]
  },
  {
   "cell_type": "code",
   "execution_count": 113,
   "id": "4b007d36",
   "metadata": {},
   "outputs": [
    {
     "name": "stderr",
     "output_type": "stream",
     "text": [
      "C:\\Users\\chicmachina\\anaconda3\\lib\\site-packages\\sklearn\\model_selection\\_validation.py:372: FitFailedWarning: \n",
      "10 fits failed out of a total of 50.\n",
      "The score on these train-test partitions for these parameters will be set to nan.\n",
      "If these failures are not expected, you can try to debug them by setting error_score='raise'.\n",
      "\n",
      "Below are more details about the failures:\n",
      "--------------------------------------------------------------------------------\n",
      "10 fits failed with the following error:\n",
      "Traceback (most recent call last):\n",
      "  File \"C:\\Users\\chicmachina\\anaconda3\\lib\\site-packages\\sklearn\\model_selection\\_validation.py\", line 680, in _fit_and_score\n",
      "    estimator.fit(X_train, y_train, **fit_params)\n",
      "  File \"C:\\Users\\chicmachina\\anaconda3\\lib\\site-packages\\sklearn\\pipeline.py\", line 390, in fit\n",
      "    Xt = self._fit(X, y, **fit_params_steps)\n",
      "  File \"C:\\Users\\chicmachina\\anaconda3\\lib\\site-packages\\sklearn\\pipeline.py\", line 348, in _fit\n",
      "    X, fitted_transformer = fit_transform_one_cached(\n",
      "  File \"C:\\Users\\chicmachina\\anaconda3\\lib\\site-packages\\joblib\\memory.py\", line 349, in __call__\n",
      "    return self.func(*args, **kwargs)\n",
      "  File \"C:\\Users\\chicmachina\\anaconda3\\lib\\site-packages\\sklearn\\pipeline.py\", line 893, in _fit_transform_one\n",
      "    res = transformer.fit_transform(X, y, **fit_params)\n",
      "  File \"C:\\Users\\chicmachina\\anaconda3\\lib\\site-packages\\sklearn\\compose\\_column_transformer.py\", line 675, in fit_transform\n",
      "    result = self._fit_transform(X, y, _fit_transform_one)\n",
      "  File \"C:\\Users\\chicmachina\\anaconda3\\lib\\site-packages\\sklearn\\compose\\_column_transformer.py\", line 606, in _fit_transform\n",
      "    return Parallel(n_jobs=self.n_jobs)(\n",
      "  File \"C:\\Users\\chicmachina\\anaconda3\\lib\\site-packages\\joblib\\parallel.py\", line 1046, in __call__\n",
      "    while self.dispatch_one_batch(iterator):\n",
      "  File \"C:\\Users\\chicmachina\\anaconda3\\lib\\site-packages\\joblib\\parallel.py\", line 861, in dispatch_one_batch\n",
      "    self._dispatch(tasks)\n",
      "  File \"C:\\Users\\chicmachina\\anaconda3\\lib\\site-packages\\joblib\\parallel.py\", line 779, in _dispatch\n",
      "    job = self._backend.apply_async(batch, callback=cb)\n",
      "  File \"C:\\Users\\chicmachina\\anaconda3\\lib\\site-packages\\joblib\\_parallel_backends.py\", line 208, in apply_async\n",
      "    result = ImmediateResult(func)\n",
      "  File \"C:\\Users\\chicmachina\\anaconda3\\lib\\site-packages\\joblib\\_parallel_backends.py\", line 572, in __init__\n",
      "    self.results = batch()\n",
      "  File \"C:\\Users\\chicmachina\\anaconda3\\lib\\site-packages\\joblib\\parallel.py\", line 262, in __call__\n",
      "    return [func(*args, **kwargs)\n",
      "  File \"C:\\Users\\chicmachina\\anaconda3\\lib\\site-packages\\joblib\\parallel.py\", line 262, in <listcomp>\n",
      "    return [func(*args, **kwargs)\n",
      "  File \"C:\\Users\\chicmachina\\anaconda3\\lib\\site-packages\\sklearn\\utils\\fixes.py\", line 216, in __call__\n",
      "    return self.function(*args, **kwargs)\n",
      "  File \"C:\\Users\\chicmachina\\anaconda3\\lib\\site-packages\\sklearn\\pipeline.py\", line 893, in _fit_transform_one\n",
      "    res = transformer.fit_transform(X, y, **fit_params)\n",
      "  File \"C:\\Users\\chicmachina\\anaconda3\\lib\\site-packages\\sklearn\\pipeline.py\", line 434, in fit_transform\n",
      "    return last_step.fit_transform(Xt, y, **fit_params_last_step)\n",
      "  File \"C:\\Users\\chicmachina\\anaconda3\\lib\\site-packages\\sklearn\\base.py\", line 855, in fit_transform\n",
      "    return self.fit(X, y, **fit_params).transform(X)\n",
      "  File \"C:\\Users\\chicmachina\\anaconda3\\lib\\site-packages\\sklearn\\preprocessing\\_encoders.py\", line 886, in fit\n",
      "    self._fit(X, handle_unknown=self.handle_unknown, force_all_finite=\"allow-nan\")\n",
      "  File \"C:\\Users\\chicmachina\\anaconda3\\lib\\site-packages\\sklearn\\preprocessing\\_encoders.py\", line 84, in _fit\n",
      "    raise ValueError(\n",
      "ValueError: Shape mismatch: if categories is an array, it has to be of shape (n_features,).\n",
      "\n",
      "  warnings.warn(some_fits_failed_message, FitFailedWarning)\n",
      "C:\\Users\\chicmachina\\anaconda3\\lib\\site-packages\\sklearn\\model_selection\\_search.py:969: UserWarning: One or more of the test scores are non-finite: [nan nan nan nan nan nan nan nan nan nan]\n",
      "  warnings.warn(\n"
     ]
    },
    {
     "data": {
      "text/plain": [
       "{'selectfrommodel__estimator__min_samples_leaf': 7,\n",
       " 'selectfrommodel__estimator__max_depth': 5,\n",
       " 'kneighborsregressor__weights': 'distance',\n",
       " 'kneighborsregressor__n_neighbors': 3,\n",
       " 'columntransformer__num_pipe__simpleimputer__strategy': 'mean'}"
      ]
     },
     "execution_count": 113,
     "metadata": {},
     "output_type": "execute_result"
    }
   ],
   "source": [
    "# K Nearest neighbors\n",
    "full_pipe_kn = make_pipeline(\n",
    "    preprocessor,\n",
    "    SelectFromModel(DecisionTreeRegressor()),\n",
    "    KNeighborsRegressor())\n",
    "\n",
    "param_grid_kn = {\n",
    "    \"columntransformer__num_pipe__simpleimputer__strategy\":['mean','median'], \n",
    "    \"selectfrommodel__estimator__max_depth\": range(2,8),\n",
    "    \"selectfrommodel__estimator__min_samples_leaf\": range(3,12),\n",
    "    \"kneighborsregressor__n_neighbors\": range(3, 8, 2) ,\n",
    "    \"kneighborsregressor__weights\": ['uniform', 'distance']\n",
    "}\n",
    "\n",
    "kn_search = RandomizedSearchCV(full_pipe_kn,\n",
    "                                   param_grid_kn,\n",
    "                                   scoring=\"neg_root_mean_squared_error\",\n",
    "                                   n_iter=10,\n",
    "                                   cv=5,\n",
    "                                   n_jobs=4,\n",
    "                                   random_state=123)\n",
    "\n",
    "kn_search.fit(X_train, y_train)\n",
    "\n",
    "kn_search.best_params_"
   ]
  },
  {
   "cell_type": "code",
   "execution_count": 115,
   "id": "e24230af",
   "metadata": {},
   "outputs": [
    {
     "name": "stderr",
     "output_type": "stream",
     "text": [
      "C:\\Users\\chicmachina\\anaconda3\\lib\\site-packages\\sklearn\\preprocessing\\_encoders.py:170: UserWarning: Found unknown categories in columns [11, 12, 13] during transform. These unknown categories will be encoded as all zeros\n",
      "  warnings.warn(\n"
     ]
    }
   ],
   "source": [
    "y_pred = kn_search.predict(X_test)"
   ]
  },
  {
   "cell_type": "code",
   "execution_count": 116,
   "id": "3fef3833",
   "metadata": {},
   "outputs": [
    {
     "data": {
      "text/plain": [
       "{'baseline_tree': 43879.873518573455,\n",
       " 'baseline_KNear': 30674.17660600554,\n",
       " 'baseline_OLS': 6337158731047.73,\n",
       " 'modelselect_tree': 42606.33604125767,\n",
       " 'modelselect_KNear': 30262.37680691028}"
      ]
     },
     "execution_count": 116,
     "metadata": {},
     "output_type": "execute_result"
    }
   ],
   "source": [
    "performances[\"modelselect_KNear\"]= mean_squared_error(y_test, y_pred, squared=False)\n",
    "performances"
   ]
  },
  {
   "cell_type": "markdown",
   "id": "49b6e531",
   "metadata": {},
   "source": [
    "### OLS"
   ]
  },
  {
   "cell_type": "code",
   "execution_count": 121,
   "id": "5c1c3fa1",
   "metadata": {},
   "outputs": [],
   "source": [
    "# OLS\n",
    "full_pipe_ols = make_pipeline(\n",
    "    preprocessor,\n",
    "    SelectFromModel(DecisionTreeRegressor()),\n",
    "    LinearRegression())\n",
    "\n",
    "param_grid_ols = {\n",
    "    \"columntransformer__num_pipe__simpleimputer__strategy\":['mean','median'],\n",
    "    \"selectfrommodel__estimator__max_depth\": range(2,8),\n",
    "    \"selectfrommodel__estimator__min_samples_leaf\": range(3,12),\n",
    "    \"selectfrommodel__threshold\": ['mean', 'median']\n",
    "}\n",
    "\n",
    "ols_search = RandomizedSearchCV(full_pipe_ols,\n",
    "                                   param_grid_ols,\n",
    "                                   scoring=\"neg_root_mean_squared_error\",\n",
    "                                   n_iter=10,\n",
    "                                   cv=5,\n",
    "                                   n_jobs=4,\n",
    "                                   random_state=123)"
   ]
  },
  {
   "cell_type": "code",
   "execution_count": 122,
   "id": "6238406e",
   "metadata": {},
   "outputs": [
    {
     "name": "stderr",
     "output_type": "stream",
     "text": [
      "C:\\Users\\chicmachina\\anaconda3\\lib\\site-packages\\sklearn\\model_selection\\_validation.py:372: FitFailedWarning: \n",
      "10 fits failed out of a total of 50.\n",
      "The score on these train-test partitions for these parameters will be set to nan.\n",
      "If these failures are not expected, you can try to debug them by setting error_score='raise'.\n",
      "\n",
      "Below are more details about the failures:\n",
      "--------------------------------------------------------------------------------\n",
      "10 fits failed with the following error:\n",
      "Traceback (most recent call last):\n",
      "  File \"C:\\Users\\chicmachina\\anaconda3\\lib\\site-packages\\sklearn\\model_selection\\_validation.py\", line 680, in _fit_and_score\n",
      "    estimator.fit(X_train, y_train, **fit_params)\n",
      "  File \"C:\\Users\\chicmachina\\anaconda3\\lib\\site-packages\\sklearn\\pipeline.py\", line 390, in fit\n",
      "    Xt = self._fit(X, y, **fit_params_steps)\n",
      "  File \"C:\\Users\\chicmachina\\anaconda3\\lib\\site-packages\\sklearn\\pipeline.py\", line 348, in _fit\n",
      "    X, fitted_transformer = fit_transform_one_cached(\n",
      "  File \"C:\\Users\\chicmachina\\anaconda3\\lib\\site-packages\\joblib\\memory.py\", line 349, in __call__\n",
      "    return self.func(*args, **kwargs)\n",
      "  File \"C:\\Users\\chicmachina\\anaconda3\\lib\\site-packages\\sklearn\\pipeline.py\", line 893, in _fit_transform_one\n",
      "    res = transformer.fit_transform(X, y, **fit_params)\n",
      "  File \"C:\\Users\\chicmachina\\anaconda3\\lib\\site-packages\\sklearn\\compose\\_column_transformer.py\", line 675, in fit_transform\n",
      "    result = self._fit_transform(X, y, _fit_transform_one)\n",
      "  File \"C:\\Users\\chicmachina\\anaconda3\\lib\\site-packages\\sklearn\\compose\\_column_transformer.py\", line 606, in _fit_transform\n",
      "    return Parallel(n_jobs=self.n_jobs)(\n",
      "  File \"C:\\Users\\chicmachina\\anaconda3\\lib\\site-packages\\joblib\\parallel.py\", line 1046, in __call__\n",
      "    while self.dispatch_one_batch(iterator):\n",
      "  File \"C:\\Users\\chicmachina\\anaconda3\\lib\\site-packages\\joblib\\parallel.py\", line 861, in dispatch_one_batch\n",
      "    self._dispatch(tasks)\n",
      "  File \"C:\\Users\\chicmachina\\anaconda3\\lib\\site-packages\\joblib\\parallel.py\", line 779, in _dispatch\n",
      "    job = self._backend.apply_async(batch, callback=cb)\n",
      "  File \"C:\\Users\\chicmachina\\anaconda3\\lib\\site-packages\\joblib\\_parallel_backends.py\", line 208, in apply_async\n",
      "    result = ImmediateResult(func)\n",
      "  File \"C:\\Users\\chicmachina\\anaconda3\\lib\\site-packages\\joblib\\_parallel_backends.py\", line 572, in __init__\n",
      "    self.results = batch()\n",
      "  File \"C:\\Users\\chicmachina\\anaconda3\\lib\\site-packages\\joblib\\parallel.py\", line 262, in __call__\n",
      "    return [func(*args, **kwargs)\n",
      "  File \"C:\\Users\\chicmachina\\anaconda3\\lib\\site-packages\\joblib\\parallel.py\", line 262, in <listcomp>\n",
      "    return [func(*args, **kwargs)\n",
      "  File \"C:\\Users\\chicmachina\\anaconda3\\lib\\site-packages\\sklearn\\utils\\fixes.py\", line 216, in __call__\n",
      "    return self.function(*args, **kwargs)\n",
      "  File \"C:\\Users\\chicmachina\\anaconda3\\lib\\site-packages\\sklearn\\pipeline.py\", line 893, in _fit_transform_one\n",
      "    res = transformer.fit_transform(X, y, **fit_params)\n",
      "  File \"C:\\Users\\chicmachina\\anaconda3\\lib\\site-packages\\sklearn\\pipeline.py\", line 434, in fit_transform\n",
      "    return last_step.fit_transform(Xt, y, **fit_params_last_step)\n",
      "  File \"C:\\Users\\chicmachina\\anaconda3\\lib\\site-packages\\sklearn\\base.py\", line 855, in fit_transform\n",
      "    return self.fit(X, y, **fit_params).transform(X)\n",
      "  File \"C:\\Users\\chicmachina\\anaconda3\\lib\\site-packages\\sklearn\\preprocessing\\_encoders.py\", line 886, in fit\n",
      "    self._fit(X, handle_unknown=self.handle_unknown, force_all_finite=\"allow-nan\")\n",
      "  File \"C:\\Users\\chicmachina\\anaconda3\\lib\\site-packages\\sklearn\\preprocessing\\_encoders.py\", line 84, in _fit\n",
      "    raise ValueError(\n",
      "ValueError: Shape mismatch: if categories is an array, it has to be of shape (n_features,).\n",
      "\n",
      "  warnings.warn(some_fits_failed_message, FitFailedWarning)\n",
      "C:\\Users\\chicmachina\\anaconda3\\lib\\site-packages\\sklearn\\model_selection\\_search.py:969: UserWarning: One or more of the test scores are non-finite: [nan nan nan nan nan nan nan nan nan nan]\n",
      "  warnings.warn(\n"
     ]
    },
    {
     "data": {
      "text/plain": [
       "RandomizedSearchCV(cv=5,\n",
       "                   estimator=Pipeline(steps=[('columntransformer',\n",
       "                                              ColumnTransformer(transformers=[('num_pipe',\n",
       "                                                                               Pipeline(steps=[('simpleimputer',\n",
       "                                                                                                SimpleImputer()),\n",
       "                                                                                               ('standardscaler',\n",
       "                                                                                                StandardScaler())]),\n",
       "                                                                               Index(['MSSubClass', 'LotFrontage', 'LotArea', 'OverallQual', 'OverallCond',\n",
       "       'MasVnrArea', 'BsmtFinSF1', 'BsmtFinSF2', 'BsmtUnfSF', 'TotalBsmtSF',\n",
       "       '1stFlrSF'...\n",
       "                                             ('linearregression',\n",
       "                                              LinearRegression())]),\n",
       "                   n_jobs=4,\n",
       "                   param_distributions={'columntransformer__num_pipe__simpleimputer__strategy': ['mean',\n",
       "                                                                                                 'median'],\n",
       "                                        'selectfrommodel__estimator__max_depth': range(2, 8),\n",
       "                                        'selectfrommodel__estimator__min_samples_leaf': range(3, 12),\n",
       "                                        'selectfrommodel__threshold': ['mean',\n",
       "                                                                       'median']},\n",
       "                   random_state=123, scoring='neg_root_mean_squared_error')"
      ]
     },
     "execution_count": 122,
     "metadata": {},
     "output_type": "execute_result"
    }
   ],
   "source": [
    "ols_search.fit(X_train, y_train)"
   ]
  },
  {
   "cell_type": "code",
   "execution_count": 123,
   "id": "7318b05f",
   "metadata": {},
   "outputs": [
    {
     "data": {
      "text/plain": [
       "{'selectfrommodel__threshold': 'median',\n",
       " 'selectfrommodel__estimator__min_samples_leaf': 7,\n",
       " 'selectfrommodel__estimator__max_depth': 5,\n",
       " 'columntransformer__num_pipe__simpleimputer__strategy': 'median'}"
      ]
     },
     "execution_count": 123,
     "metadata": {},
     "output_type": "execute_result"
    }
   ],
   "source": [
    "ols_search.best_params_"
   ]
  },
  {
   "cell_type": "code",
   "execution_count": 124,
   "id": "037b93d5",
   "metadata": {},
   "outputs": [
    {
     "name": "stderr",
     "output_type": "stream",
     "text": [
      "C:\\Users\\chicmachina\\anaconda3\\lib\\site-packages\\sklearn\\preprocessing\\_encoders.py:170: UserWarning: Found unknown categories in columns [11, 12, 13] during transform. These unknown categories will be encoded as all zeros\n",
      "  warnings.warn(\n"
     ]
    }
   ],
   "source": [
    "y_pred = ols_search.predict(X_test)"
   ]
  },
  {
   "cell_type": "code",
   "execution_count": 125,
   "id": "be4f38b7",
   "metadata": {},
   "outputs": [
    {
     "data": {
      "text/plain": [
       "{'baseline_tree': 43879.873518573455,\n",
       " 'baseline_KNear': 30674.17660600554,\n",
       " 'baseline_OLS': 6337158731047.73,\n",
       " 'modelselect_tree': 42606.33604125767,\n",
       " 'modelselect_KNear': 30262.37680691028,\n",
       " 'modelselect_OLS': nan}"
      ]
     },
     "execution_count": 125,
     "metadata": {},
     "output_type": "execute_result"
    }
   ],
   "source": [
    "performances[\"modelselect_OLS\"]= mean_squared_error(y_test, y_pred, squared=False)\n",
    "performances"
   ]
  },
  {
   "cell_type": "markdown",
   "id": "1cfad7c0",
   "metadata": {},
   "source": [
    "## RFE"
   ]
  },
  {
   "cell_type": "code",
   "execution_count": 126,
   "id": "61eba1fa",
   "metadata": {},
   "outputs": [],
   "source": [
    "from sklearn.feature_selection import RFECV"
   ]
  },
  {
   "cell_type": "markdown",
   "id": "b0b00ac1",
   "metadata": {},
   "source": [
    "### Decision Tree"
   ]
  },
  {
   "cell_type": "code",
   "execution_count": 127,
   "id": "e04c8aec",
   "metadata": {},
   "outputs": [
    {
     "name": "stderr",
     "output_type": "stream",
     "text": [
      "C:\\Users\\chicmachina\\anaconda3\\lib\\site-packages\\sklearn\\model_selection\\_validation.py:372: FitFailedWarning: \n",
      "10 fits failed out of a total of 50.\n",
      "The score on these train-test partitions for these parameters will be set to nan.\n",
      "If these failures are not expected, you can try to debug them by setting error_score='raise'.\n",
      "\n",
      "Below are more details about the failures:\n",
      "--------------------------------------------------------------------------------\n",
      "10 fits failed with the following error:\n",
      "Traceback (most recent call last):\n",
      "  File \"C:\\Users\\chicmachina\\anaconda3\\lib\\site-packages\\sklearn\\model_selection\\_validation.py\", line 680, in _fit_and_score\n",
      "    estimator.fit(X_train, y_train, **fit_params)\n",
      "  File \"C:\\Users\\chicmachina\\anaconda3\\lib\\site-packages\\sklearn\\pipeline.py\", line 390, in fit\n",
      "    Xt = self._fit(X, y, **fit_params_steps)\n",
      "  File \"C:\\Users\\chicmachina\\anaconda3\\lib\\site-packages\\sklearn\\pipeline.py\", line 348, in _fit\n",
      "    X, fitted_transformer = fit_transform_one_cached(\n",
      "  File \"C:\\Users\\chicmachina\\anaconda3\\lib\\site-packages\\joblib\\memory.py\", line 349, in __call__\n",
      "    return self.func(*args, **kwargs)\n",
      "  File \"C:\\Users\\chicmachina\\anaconda3\\lib\\site-packages\\sklearn\\pipeline.py\", line 893, in _fit_transform_one\n",
      "    res = transformer.fit_transform(X, y, **fit_params)\n",
      "  File \"C:\\Users\\chicmachina\\anaconda3\\lib\\site-packages\\sklearn\\compose\\_column_transformer.py\", line 675, in fit_transform\n",
      "    result = self._fit_transform(X, y, _fit_transform_one)\n",
      "  File \"C:\\Users\\chicmachina\\anaconda3\\lib\\site-packages\\sklearn\\compose\\_column_transformer.py\", line 606, in _fit_transform\n",
      "    return Parallel(n_jobs=self.n_jobs)(\n",
      "  File \"C:\\Users\\chicmachina\\anaconda3\\lib\\site-packages\\joblib\\parallel.py\", line 1046, in __call__\n",
      "    while self.dispatch_one_batch(iterator):\n",
      "  File \"C:\\Users\\chicmachina\\anaconda3\\lib\\site-packages\\joblib\\parallel.py\", line 861, in dispatch_one_batch\n",
      "    self._dispatch(tasks)\n",
      "  File \"C:\\Users\\chicmachina\\anaconda3\\lib\\site-packages\\joblib\\parallel.py\", line 779, in _dispatch\n",
      "    job = self._backend.apply_async(batch, callback=cb)\n",
      "  File \"C:\\Users\\chicmachina\\anaconda3\\lib\\site-packages\\joblib\\_parallel_backends.py\", line 208, in apply_async\n",
      "    result = ImmediateResult(func)\n",
      "  File \"C:\\Users\\chicmachina\\anaconda3\\lib\\site-packages\\joblib\\_parallel_backends.py\", line 572, in __init__\n",
      "    self.results = batch()\n",
      "  File \"C:\\Users\\chicmachina\\anaconda3\\lib\\site-packages\\joblib\\parallel.py\", line 262, in __call__\n",
      "    return [func(*args, **kwargs)\n",
      "  File \"C:\\Users\\chicmachina\\anaconda3\\lib\\site-packages\\joblib\\parallel.py\", line 262, in <listcomp>\n",
      "    return [func(*args, **kwargs)\n",
      "  File \"C:\\Users\\chicmachina\\anaconda3\\lib\\site-packages\\sklearn\\utils\\fixes.py\", line 216, in __call__\n",
      "    return self.function(*args, **kwargs)\n",
      "  File \"C:\\Users\\chicmachina\\anaconda3\\lib\\site-packages\\sklearn\\pipeline.py\", line 893, in _fit_transform_one\n",
      "    res = transformer.fit_transform(X, y, **fit_params)\n",
      "  File \"C:\\Users\\chicmachina\\anaconda3\\lib\\site-packages\\sklearn\\pipeline.py\", line 434, in fit_transform\n",
      "    return last_step.fit_transform(Xt, y, **fit_params_last_step)\n",
      "  File \"C:\\Users\\chicmachina\\anaconda3\\lib\\site-packages\\sklearn\\base.py\", line 855, in fit_transform\n",
      "    return self.fit(X, y, **fit_params).transform(X)\n",
      "  File \"C:\\Users\\chicmachina\\anaconda3\\lib\\site-packages\\sklearn\\preprocessing\\_encoders.py\", line 886, in fit\n",
      "    self._fit(X, handle_unknown=self.handle_unknown, force_all_finite=\"allow-nan\")\n",
      "  File \"C:\\Users\\chicmachina\\anaconda3\\lib\\site-packages\\sklearn\\preprocessing\\_encoders.py\", line 84, in _fit\n",
      "    raise ValueError(\n",
      "ValueError: Shape mismatch: if categories is an array, it has to be of shape (n_features,).\n",
      "\n",
      "  warnings.warn(some_fits_failed_message, FitFailedWarning)\n",
      "C:\\Users\\chicmachina\\anaconda3\\lib\\site-packages\\sklearn\\model_selection\\_search.py:969: UserWarning: One or more of the test scores are non-finite: [nan nan nan nan nan nan nan nan nan nan]\n",
      "  warnings.warn(\n"
     ]
    },
    {
     "data": {
      "text/plain": [
       "RandomizedSearchCV(cv=5,\n",
       "                   estimator=Pipeline(steps=[('columntransformer',\n",
       "                                              ColumnTransformer(transformers=[('num_pipe',\n",
       "                                                                               Pipeline(steps=[('simpleimputer',\n",
       "                                                                                                SimpleImputer()),\n",
       "                                                                                               ('standardscaler',\n",
       "                                                                                                StandardScaler())]),\n",
       "                                                                               Index(['MSSubClass', 'LotFrontage', 'LotArea', 'OverallQual', 'OverallCond',\n",
       "       'MasVnrArea', 'BsmtFinSF1', 'BsmtFinSF2', 'BsmtUnfSF', 'TotalBsmtSF',\n",
       "       '1stFlrSF'...\n",
       "                                                                                'SaleCondition'])])),\n",
       "                                             ('rfecv',\n",
       "                                              RFECV(estimator=DecisionTreeRegressor(),\n",
       "                                                    scoring='neg_root_mean_squared_error'))]),\n",
       "                   n_jobs=4,\n",
       "                   param_distributions={'columntransformer__num_pipe__simpleimputer__strategy': ['mean',\n",
       "                                                                                                 'median'],\n",
       "                                        'rfecv__estimator__max_depth': range(2, 8),\n",
       "                                        'rfecv__estimator__min_samples_leaf': range(3, 12)},\n",
       "                   random_state=123, scoring='neg_root_mean_squared_error')"
      ]
     },
     "execution_count": 127,
     "metadata": {},
     "output_type": "execute_result"
    }
   ],
   "source": [
    "# Decision tree\n",
    "from sklearn.tree import DecisionTreeRegressor\n",
    "full_pipe_dt = make_pipeline(\n",
    "    preprocessor,\n",
    "    RFECV(DecisionTreeRegressor(), scoring=\"neg_root_mean_squared_error\"))\n",
    "\n",
    "param_grid_dt = {\n",
    "    \"columntransformer__num_pipe__simpleimputer__strategy\":['mean','median'], \n",
    "    \"rfecv__estimator__max_depth\": range(2, 8),\n",
    "    \"rfecv__estimator__min_samples_leaf\": range(3, 12)\n",
    "}\n",
    "\n",
    "dt_search = RandomizedSearchCV(full_pipe_dt,\n",
    "                                   param_grid_dt,\n",
    "                                   scoring=\"neg_root_mean_squared_error\",\n",
    "                                   n_iter=10,\n",
    "                                   cv=5,\n",
    "                                   n_jobs=4,\n",
    "                                   random_state=123)\n",
    "\n",
    "dt_search.fit(X_train, y_train)"
   ]
  },
  {
   "cell_type": "code",
   "execution_count": 128,
   "id": "90f18e58",
   "metadata": {},
   "outputs": [
    {
     "data": {
      "text/plain": [
       "{'rfecv__estimator__min_samples_leaf': 6,\n",
       " 'rfecv__estimator__max_depth': 5,\n",
       " 'columntransformer__num_pipe__simpleimputer__strategy': 'median'}"
      ]
     },
     "execution_count": 128,
     "metadata": {},
     "output_type": "execute_result"
    }
   ],
   "source": [
    "dt_search.best_params_"
   ]
  },
  {
   "cell_type": "code",
   "execution_count": 129,
   "id": "6f9c84ec",
   "metadata": {},
   "outputs": [
    {
     "name": "stderr",
     "output_type": "stream",
     "text": [
      "C:\\Users\\chicmachina\\anaconda3\\lib\\site-packages\\sklearn\\preprocessing\\_encoders.py:170: UserWarning: Found unknown categories in columns [11, 12, 13] during transform. These unknown categories will be encoded as all zeros\n",
      "  warnings.warn(\n"
     ]
    }
   ],
   "source": [
    "y_pred = dt_search.predict(X_test)"
   ]
  },
  {
   "cell_type": "code",
   "execution_count": 130,
   "id": "8e8d98b3",
   "metadata": {},
   "outputs": [
    {
     "data": {
      "text/plain": [
       "{'baseline_tree': 43879.873518573455,\n",
       " 'baseline_KNear': 30674.17660600554,\n",
       " 'baseline_OLS': 6337158731047.73,\n",
       " 'modelselect_tree': 42606.33604125767,\n",
       " 'modelselect_KNear': 30262.37680691028,\n",
       " 'modelselect_OLS': nan,\n",
       " 'RFE_tree': 36041.3362870785}"
      ]
     },
     "execution_count": 130,
     "metadata": {},
     "output_type": "execute_result"
    }
   ],
   "source": [
    "performances[\"RFE_tree\"]= mean_squared_error(y_test, y_pred, squared=False)\n",
    "performances"
   ]
  },
  {
   "cell_type": "markdown",
   "id": "1d096734",
   "metadata": {},
   "source": [
    "### OLS"
   ]
  },
  {
   "cell_type": "code",
   "execution_count": 131,
   "id": "2806c93f",
   "metadata": {},
   "outputs": [],
   "source": [
    "# OLS\n",
    "from sklearn.linear_model import LinearRegression\n",
    "full_pipe_ols = make_pipeline(\n",
    "    preprocessor,\n",
    "    RFECV(LinearRegression(), scoring=\"neg_root_mean_squared_error\"))\n",
    "\n",
    "param_grid_ols = {\n",
    "    \"columntransformer__num_pipe__simpleimputer__strategy\":['mean','median']\n",
    "}\n",
    "\n",
    "ols_search = RandomizedSearchCV(full_pipe_ols,\n",
    "                                   param_grid_ols,\n",
    "                                   scoring=\"neg_root_mean_squared_error\",\n",
    "                                   n_iter=10,\n",
    "                                   cv=5,\n",
    "                                   n_jobs=4,\n",
    "                                   random_state=123)"
   ]
  },
  {
   "cell_type": "code",
   "execution_count": 132,
   "id": "f90ad31f",
   "metadata": {},
   "outputs": [
    {
     "name": "stderr",
     "output_type": "stream",
     "text": [
      "C:\\Users\\chicmachina\\anaconda3\\lib\\site-packages\\sklearn\\model_selection\\_search.py:292: UserWarning: The total space of parameters 2 is smaller than n_iter=10. Running 2 iterations. For exhaustive searches, use GridSearchCV.\n",
      "  warnings.warn(\n",
      "C:\\Users\\chicmachina\\anaconda3\\lib\\site-packages\\sklearn\\model_selection\\_validation.py:372: FitFailedWarning: \n",
      "2 fits failed out of a total of 10.\n",
      "The score on these train-test partitions for these parameters will be set to nan.\n",
      "If these failures are not expected, you can try to debug them by setting error_score='raise'.\n",
      "\n",
      "Below are more details about the failures:\n",
      "--------------------------------------------------------------------------------\n",
      "2 fits failed with the following error:\n",
      "Traceback (most recent call last):\n",
      "  File \"C:\\Users\\chicmachina\\anaconda3\\lib\\site-packages\\sklearn\\model_selection\\_validation.py\", line 680, in _fit_and_score\n",
      "    estimator.fit(X_train, y_train, **fit_params)\n",
      "  File \"C:\\Users\\chicmachina\\anaconda3\\lib\\site-packages\\sklearn\\pipeline.py\", line 390, in fit\n",
      "    Xt = self._fit(X, y, **fit_params_steps)\n",
      "  File \"C:\\Users\\chicmachina\\anaconda3\\lib\\site-packages\\sklearn\\pipeline.py\", line 348, in _fit\n",
      "    X, fitted_transformer = fit_transform_one_cached(\n",
      "  File \"C:\\Users\\chicmachina\\anaconda3\\lib\\site-packages\\joblib\\memory.py\", line 349, in __call__\n",
      "    return self.func(*args, **kwargs)\n",
      "  File \"C:\\Users\\chicmachina\\anaconda3\\lib\\site-packages\\sklearn\\pipeline.py\", line 893, in _fit_transform_one\n",
      "    res = transformer.fit_transform(X, y, **fit_params)\n",
      "  File \"C:\\Users\\chicmachina\\anaconda3\\lib\\site-packages\\sklearn\\compose\\_column_transformer.py\", line 675, in fit_transform\n",
      "    result = self._fit_transform(X, y, _fit_transform_one)\n",
      "  File \"C:\\Users\\chicmachina\\anaconda3\\lib\\site-packages\\sklearn\\compose\\_column_transformer.py\", line 606, in _fit_transform\n",
      "    return Parallel(n_jobs=self.n_jobs)(\n",
      "  File \"C:\\Users\\chicmachina\\anaconda3\\lib\\site-packages\\joblib\\parallel.py\", line 1046, in __call__\n",
      "    while self.dispatch_one_batch(iterator):\n",
      "  File \"C:\\Users\\chicmachina\\anaconda3\\lib\\site-packages\\joblib\\parallel.py\", line 861, in dispatch_one_batch\n",
      "    self._dispatch(tasks)\n",
      "  File \"C:\\Users\\chicmachina\\anaconda3\\lib\\site-packages\\joblib\\parallel.py\", line 779, in _dispatch\n",
      "    job = self._backend.apply_async(batch, callback=cb)\n",
      "  File \"C:\\Users\\chicmachina\\anaconda3\\lib\\site-packages\\joblib\\_parallel_backends.py\", line 208, in apply_async\n",
      "    result = ImmediateResult(func)\n",
      "  File \"C:\\Users\\chicmachina\\anaconda3\\lib\\site-packages\\joblib\\_parallel_backends.py\", line 572, in __init__\n",
      "    self.results = batch()\n",
      "  File \"C:\\Users\\chicmachina\\anaconda3\\lib\\site-packages\\joblib\\parallel.py\", line 262, in __call__\n",
      "    return [func(*args, **kwargs)\n",
      "  File \"C:\\Users\\chicmachina\\anaconda3\\lib\\site-packages\\joblib\\parallel.py\", line 262, in <listcomp>\n",
      "    return [func(*args, **kwargs)\n",
      "  File \"C:\\Users\\chicmachina\\anaconda3\\lib\\site-packages\\sklearn\\utils\\fixes.py\", line 216, in __call__\n",
      "    return self.function(*args, **kwargs)\n",
      "  File \"C:\\Users\\chicmachina\\anaconda3\\lib\\site-packages\\sklearn\\pipeline.py\", line 893, in _fit_transform_one\n",
      "    res = transformer.fit_transform(X, y, **fit_params)\n",
      "  File \"C:\\Users\\chicmachina\\anaconda3\\lib\\site-packages\\sklearn\\pipeline.py\", line 434, in fit_transform\n",
      "    return last_step.fit_transform(Xt, y, **fit_params_last_step)\n",
      "  File \"C:\\Users\\chicmachina\\anaconda3\\lib\\site-packages\\sklearn\\base.py\", line 855, in fit_transform\n",
      "    return self.fit(X, y, **fit_params).transform(X)\n",
      "  File \"C:\\Users\\chicmachina\\anaconda3\\lib\\site-packages\\sklearn\\preprocessing\\_encoders.py\", line 886, in fit\n",
      "    self._fit(X, handle_unknown=self.handle_unknown, force_all_finite=\"allow-nan\")\n",
      "  File \"C:\\Users\\chicmachina\\anaconda3\\lib\\site-packages\\sklearn\\preprocessing\\_encoders.py\", line 84, in _fit\n",
      "    raise ValueError(\n",
      "ValueError: Shape mismatch: if categories is an array, it has to be of shape (n_features,).\n",
      "\n",
      "  warnings.warn(some_fits_failed_message, FitFailedWarning)\n",
      "C:\\Users\\chicmachina\\anaconda3\\lib\\site-packages\\sklearn\\model_selection\\_search.py:969: UserWarning: One or more of the test scores are non-finite: [nan nan]\n",
      "  warnings.warn(\n"
     ]
    },
    {
     "data": {
      "text/plain": [
       "RandomizedSearchCV(cv=5,\n",
       "                   estimator=Pipeline(steps=[('columntransformer',\n",
       "                                              ColumnTransformer(transformers=[('num_pipe',\n",
       "                                                                               Pipeline(steps=[('simpleimputer',\n",
       "                                                                                                SimpleImputer()),\n",
       "                                                                                               ('standardscaler',\n",
       "                                                                                                StandardScaler())]),\n",
       "                                                                               Index(['MSSubClass', 'LotFrontage', 'LotArea', 'OverallQual', 'OverallCond',\n",
       "       'MasVnrArea', 'BsmtFinSF1', 'BsmtFinSF2', 'BsmtUnfSF', 'TotalBsmtSF',\n",
       "       '1stFlrSF'...\n",
       "                                                                                'CentralAir',\n",
       "                                                                                'Electrical',\n",
       "                                                                                'GarageType',\n",
       "                                                                                'PavedDrive',\n",
       "                                                                                'Fence',\n",
       "                                                                                'MiscFeature',\n",
       "                                                                                'SaleType',\n",
       "                                                                                'SaleCondition'])])),\n",
       "                                             ('rfecv',\n",
       "                                              RFECV(estimator=LinearRegression(),\n",
       "                                                    scoring='neg_root_mean_squared_error'))]),\n",
       "                   n_jobs=4,\n",
       "                   param_distributions={'columntransformer__num_pipe__simpleimputer__strategy': ['mean',\n",
       "                                                                                                 'median']},\n",
       "                   random_state=123, scoring='neg_root_mean_squared_error')"
      ]
     },
     "execution_count": 132,
     "metadata": {},
     "output_type": "execute_result"
    }
   ],
   "source": [
    "ols_search.fit(X_train, y_train)"
   ]
  },
  {
   "cell_type": "code",
   "execution_count": 133,
   "id": "79d1975b",
   "metadata": {},
   "outputs": [
    {
     "data": {
      "text/plain": [
       "{'columntransformer__num_pipe__simpleimputer__strategy': 'mean'}"
      ]
     },
     "execution_count": 133,
     "metadata": {},
     "output_type": "execute_result"
    }
   ],
   "source": [
    "ols_search.best_params_"
   ]
  },
  {
   "cell_type": "code",
   "execution_count": 134,
   "id": "6674177c",
   "metadata": {},
   "outputs": [
    {
     "name": "stderr",
     "output_type": "stream",
     "text": [
      "C:\\Users\\chicmachina\\anaconda3\\lib\\site-packages\\sklearn\\preprocessing\\_encoders.py:170: UserWarning: Found unknown categories in columns [11, 12, 13] during transform. These unknown categories will be encoded as all zeros\n",
      "  warnings.warn(\n"
     ]
    }
   ],
   "source": [
    "y_pred = ols_search.predict(X_test)"
   ]
  },
  {
   "cell_type": "code",
   "execution_count": 135,
   "id": "cbcfa75a",
   "metadata": {},
   "outputs": [
    {
     "data": {
      "text/plain": [
       "{'baseline_tree': 43879.873518573455,\n",
       " 'baseline_KNear': 30674.17660600554,\n",
       " 'baseline_OLS': 6337158731047.73,\n",
       " 'modelselect_tree': 42606.33604125767,\n",
       " 'modelselect_KNear': 30262.37680691028,\n",
       " 'modelselect_OLS': nan,\n",
       " 'RFE_tree': 36041.3362870785,\n",
       " 'RFE_OLS': 4145836444633610.0}"
      ]
     },
     "execution_count": 135,
     "metadata": {},
     "output_type": "execute_result"
    }
   ],
   "source": [
    "performances[\"RFE_OLS\"]= mean_squared_error(y_test, y_pred, squared=False)\n",
    "performances"
   ]
  },
  {
   "cell_type": "markdown",
   "id": "04949501",
   "metadata": {},
   "source": [
    "## PCA for whole df"
   ]
  },
  {
   "cell_type": "markdown",
   "id": "fb2b739c",
   "metadata": {},
   "source": [
    "### Decision Tree"
   ]
  },
  {
   "cell_type": "code",
   "execution_count": 136,
   "id": "2b824753",
   "metadata": {},
   "outputs": [
    {
     "name": "stderr",
     "output_type": "stream",
     "text": [
      "C:\\Users\\chicmachina\\anaconda3\\lib\\site-packages\\sklearn\\model_selection\\_validation.py:372: FitFailedWarning: \n",
      "10 fits failed out of a total of 50.\n",
      "The score on these train-test partitions for these parameters will be set to nan.\n",
      "If these failures are not expected, you can try to debug them by setting error_score='raise'.\n",
      "\n",
      "Below are more details about the failures:\n",
      "--------------------------------------------------------------------------------\n",
      "10 fits failed with the following error:\n",
      "Traceback (most recent call last):\n",
      "  File \"C:\\Users\\chicmachina\\anaconda3\\lib\\site-packages\\sklearn\\model_selection\\_validation.py\", line 680, in _fit_and_score\n",
      "    estimator.fit(X_train, y_train, **fit_params)\n",
      "  File \"C:\\Users\\chicmachina\\anaconda3\\lib\\site-packages\\sklearn\\pipeline.py\", line 390, in fit\n",
      "    Xt = self._fit(X, y, **fit_params_steps)\n",
      "  File \"C:\\Users\\chicmachina\\anaconda3\\lib\\site-packages\\sklearn\\pipeline.py\", line 348, in _fit\n",
      "    X, fitted_transformer = fit_transform_one_cached(\n",
      "  File \"C:\\Users\\chicmachina\\anaconda3\\lib\\site-packages\\joblib\\memory.py\", line 349, in __call__\n",
      "    return self.func(*args, **kwargs)\n",
      "  File \"C:\\Users\\chicmachina\\anaconda3\\lib\\site-packages\\sklearn\\pipeline.py\", line 893, in _fit_transform_one\n",
      "    res = transformer.fit_transform(X, y, **fit_params)\n",
      "  File \"C:\\Users\\chicmachina\\anaconda3\\lib\\site-packages\\sklearn\\compose\\_column_transformer.py\", line 675, in fit_transform\n",
      "    result = self._fit_transform(X, y, _fit_transform_one)\n",
      "  File \"C:\\Users\\chicmachina\\anaconda3\\lib\\site-packages\\sklearn\\compose\\_column_transformer.py\", line 606, in _fit_transform\n",
      "    return Parallel(n_jobs=self.n_jobs)(\n",
      "  File \"C:\\Users\\chicmachina\\anaconda3\\lib\\site-packages\\joblib\\parallel.py\", line 1046, in __call__\n",
      "    while self.dispatch_one_batch(iterator):\n",
      "  File \"C:\\Users\\chicmachina\\anaconda3\\lib\\site-packages\\joblib\\parallel.py\", line 861, in dispatch_one_batch\n",
      "    self._dispatch(tasks)\n",
      "  File \"C:\\Users\\chicmachina\\anaconda3\\lib\\site-packages\\joblib\\parallel.py\", line 779, in _dispatch\n",
      "    job = self._backend.apply_async(batch, callback=cb)\n",
      "  File \"C:\\Users\\chicmachina\\anaconda3\\lib\\site-packages\\joblib\\_parallel_backends.py\", line 208, in apply_async\n",
      "    result = ImmediateResult(func)\n",
      "  File \"C:\\Users\\chicmachina\\anaconda3\\lib\\site-packages\\joblib\\_parallel_backends.py\", line 572, in __init__\n",
      "    self.results = batch()\n",
      "  File \"C:\\Users\\chicmachina\\anaconda3\\lib\\site-packages\\joblib\\parallel.py\", line 262, in __call__\n",
      "    return [func(*args, **kwargs)\n",
      "  File \"C:\\Users\\chicmachina\\anaconda3\\lib\\site-packages\\joblib\\parallel.py\", line 262, in <listcomp>\n",
      "    return [func(*args, **kwargs)\n",
      "  File \"C:\\Users\\chicmachina\\anaconda3\\lib\\site-packages\\sklearn\\utils\\fixes.py\", line 216, in __call__\n",
      "    return self.function(*args, **kwargs)\n",
      "  File \"C:\\Users\\chicmachina\\anaconda3\\lib\\site-packages\\sklearn\\pipeline.py\", line 893, in _fit_transform_one\n",
      "    res = transformer.fit_transform(X, y, **fit_params)\n",
      "  File \"C:\\Users\\chicmachina\\anaconda3\\lib\\site-packages\\sklearn\\pipeline.py\", line 434, in fit_transform\n",
      "    return last_step.fit_transform(Xt, y, **fit_params_last_step)\n",
      "  File \"C:\\Users\\chicmachina\\anaconda3\\lib\\site-packages\\sklearn\\base.py\", line 855, in fit_transform\n",
      "    return self.fit(X, y, **fit_params).transform(X)\n",
      "  File \"C:\\Users\\chicmachina\\anaconda3\\lib\\site-packages\\sklearn\\preprocessing\\_encoders.py\", line 886, in fit\n",
      "    self._fit(X, handle_unknown=self.handle_unknown, force_all_finite=\"allow-nan\")\n",
      "  File \"C:\\Users\\chicmachina\\anaconda3\\lib\\site-packages\\sklearn\\preprocessing\\_encoders.py\", line 84, in _fit\n",
      "    raise ValueError(\n",
      "ValueError: Shape mismatch: if categories is an array, it has to be of shape (n_features,).\n",
      "\n",
      "  warnings.warn(some_fits_failed_message, FitFailedWarning)\n",
      "C:\\Users\\chicmachina\\anaconda3\\lib\\site-packages\\sklearn\\model_selection\\_search.py:969: UserWarning: One or more of the test scores are non-finite: [nan nan nan nan nan nan nan nan nan nan]\n",
      "  warnings.warn(\n"
     ]
    },
    {
     "data": {
      "text/plain": [
       "RandomizedSearchCV(cv=5,\n",
       "                   estimator=Pipeline(steps=[('columntransformer',\n",
       "                                              ColumnTransformer(transformers=[('num_pipe',\n",
       "                                                                               Pipeline(steps=[('simpleimputer',\n",
       "                                                                                                SimpleImputer()),\n",
       "                                                                                               ('standardscaler',\n",
       "                                                                                                StandardScaler())]),\n",
       "                                                                               Index(['MSSubClass', 'LotFrontage', 'LotArea', 'OverallQual', 'OverallCond',\n",
       "       'MasVnrArea', 'BsmtFinSF1', 'BsmtFinSF2', 'BsmtUnfSF', 'TotalBsmtSF',\n",
       "       '1stFlrSF'...\n",
       "                                                                                'SaleCondition'])])),\n",
       "                                             ('pca', PCA(n_components=0.95)),\n",
       "                                             ('decisiontreeregressor',\n",
       "                                              DecisionTreeRegressor())]),\n",
       "                   n_jobs=4,\n",
       "                   param_distributions={'columntransformer__num_pipe__simpleimputer__strategy': ['mean',\n",
       "                                                                                                 'median'],\n",
       "                                        'decisiontreeregressor__max_depth': range(2, 8),\n",
       "                                        'decisiontreeregressor__min_samples_leaf': range(3, 12)},\n",
       "                   random_state=123, scoring='neg_root_mean_squared_error')"
      ]
     },
     "execution_count": 136,
     "metadata": {},
     "output_type": "execute_result"
    }
   ],
   "source": [
    "# Decision tree\n",
    "full_pipe_dt = make_pipeline(\n",
    "    preprocessor,\n",
    "    PCA(n_components=0.95),\n",
    "    DecisionTreeRegressor())\n",
    "\n",
    "param_grid_dt = {\n",
    "    \"columntransformer__num_pipe__simpleimputer__strategy\":['mean','median'], \n",
    "    \"decisiontreeregressor__max_depth\": range(2, 8),\n",
    "    \"decisiontreeregressor__min_samples_leaf\": range(3, 12)\n",
    "}\n",
    "\n",
    "dt_search = RandomizedSearchCV(full_pipe_dt,\n",
    "                                   param_grid_dt,\n",
    "                                   scoring=\"neg_root_mean_squared_error\",\n",
    "                                   n_iter=10,\n",
    "                                   cv=5,\n",
    "                                   n_jobs=4,\n",
    "                                   random_state=123)\n",
    "\n",
    "dt_search.fit(X_train, y_train)"
   ]
  },
  {
   "cell_type": "code",
   "execution_count": 137,
   "id": "a64fb07e",
   "metadata": {},
   "outputs": [
    {
     "data": {
      "text/plain": [
       "{'decisiontreeregressor__min_samples_leaf': 6,\n",
       " 'decisiontreeregressor__max_depth': 5,\n",
       " 'columntransformer__num_pipe__simpleimputer__strategy': 'median'}"
      ]
     },
     "execution_count": 137,
     "metadata": {},
     "output_type": "execute_result"
    }
   ],
   "source": [
    "dt_search.best_params_"
   ]
  },
  {
   "cell_type": "code",
   "execution_count": 138,
   "id": "a23b35d8",
   "metadata": {},
   "outputs": [
    {
     "name": "stderr",
     "output_type": "stream",
     "text": [
      "C:\\Users\\chicmachina\\anaconda3\\lib\\site-packages\\sklearn\\preprocessing\\_encoders.py:170: UserWarning: Found unknown categories in columns [11, 12, 13] during transform. These unknown categories will be encoded as all zeros\n",
      "  warnings.warn(\n"
     ]
    }
   ],
   "source": [
    "y_pred = dt_search.predict(X_test)"
   ]
  },
  {
   "cell_type": "code",
   "execution_count": 139,
   "id": "b6c5db77",
   "metadata": {},
   "outputs": [
    {
     "data": {
      "text/plain": [
       "{'baseline_tree': 43879.873518573455,\n",
       " 'baseline_KNear': 30674.17660600554,\n",
       " 'baseline_OLS': 6337158731047.73,\n",
       " 'modelselect_tree': 42606.33604125767,\n",
       " 'modelselect_KNear': 30262.37680691028,\n",
       " 'modelselect_OLS': nan,\n",
       " 'RFE_tree': 36041.3362870785,\n",
       " 'RFE_OLS': 4145836444633610.0,\n",
       " 'PCA_tree': 34196.93924897161}"
      ]
     },
     "execution_count": 139,
     "metadata": {},
     "output_type": "execute_result"
    }
   ],
   "source": [
    "performances[\"PCA_tree\"]= mean_squared_error(y_test, y_pred, squared=False)\n",
    "performances"
   ]
  },
  {
   "cell_type": "markdown",
   "id": "79d0adad",
   "metadata": {},
   "source": [
    "### KNearest"
   ]
  },
  {
   "cell_type": "code",
   "execution_count": 140,
   "id": "c8d770c1",
   "metadata": {},
   "outputs": [
    {
     "name": "stderr",
     "output_type": "stream",
     "text": [
      "C:\\Users\\chicmachina\\anaconda3\\lib\\site-packages\\sklearn\\model_selection\\_validation.py:372: FitFailedWarning: \n",
      "10 fits failed out of a total of 50.\n",
      "The score on these train-test partitions for these parameters will be set to nan.\n",
      "If these failures are not expected, you can try to debug them by setting error_score='raise'.\n",
      "\n",
      "Below are more details about the failures:\n",
      "--------------------------------------------------------------------------------\n",
      "10 fits failed with the following error:\n",
      "Traceback (most recent call last):\n",
      "  File \"C:\\Users\\chicmachina\\anaconda3\\lib\\site-packages\\sklearn\\model_selection\\_validation.py\", line 680, in _fit_and_score\n",
      "    estimator.fit(X_train, y_train, **fit_params)\n",
      "  File \"C:\\Users\\chicmachina\\anaconda3\\lib\\site-packages\\sklearn\\pipeline.py\", line 390, in fit\n",
      "    Xt = self._fit(X, y, **fit_params_steps)\n",
      "  File \"C:\\Users\\chicmachina\\anaconda3\\lib\\site-packages\\sklearn\\pipeline.py\", line 348, in _fit\n",
      "    X, fitted_transformer = fit_transform_one_cached(\n",
      "  File \"C:\\Users\\chicmachina\\anaconda3\\lib\\site-packages\\joblib\\memory.py\", line 349, in __call__\n",
      "    return self.func(*args, **kwargs)\n",
      "  File \"C:\\Users\\chicmachina\\anaconda3\\lib\\site-packages\\sklearn\\pipeline.py\", line 893, in _fit_transform_one\n",
      "    res = transformer.fit_transform(X, y, **fit_params)\n",
      "  File \"C:\\Users\\chicmachina\\anaconda3\\lib\\site-packages\\sklearn\\compose\\_column_transformer.py\", line 675, in fit_transform\n",
      "    result = self._fit_transform(X, y, _fit_transform_one)\n",
      "  File \"C:\\Users\\chicmachina\\anaconda3\\lib\\site-packages\\sklearn\\compose\\_column_transformer.py\", line 606, in _fit_transform\n",
      "    return Parallel(n_jobs=self.n_jobs)(\n",
      "  File \"C:\\Users\\chicmachina\\anaconda3\\lib\\site-packages\\joblib\\parallel.py\", line 1046, in __call__\n",
      "    while self.dispatch_one_batch(iterator):\n",
      "  File \"C:\\Users\\chicmachina\\anaconda3\\lib\\site-packages\\joblib\\parallel.py\", line 861, in dispatch_one_batch\n",
      "    self._dispatch(tasks)\n",
      "  File \"C:\\Users\\chicmachina\\anaconda3\\lib\\site-packages\\joblib\\parallel.py\", line 779, in _dispatch\n",
      "    job = self._backend.apply_async(batch, callback=cb)\n",
      "  File \"C:\\Users\\chicmachina\\anaconda3\\lib\\site-packages\\joblib\\_parallel_backends.py\", line 208, in apply_async\n",
      "    result = ImmediateResult(func)\n",
      "  File \"C:\\Users\\chicmachina\\anaconda3\\lib\\site-packages\\joblib\\_parallel_backends.py\", line 572, in __init__\n",
      "    self.results = batch()\n",
      "  File \"C:\\Users\\chicmachina\\anaconda3\\lib\\site-packages\\joblib\\parallel.py\", line 262, in __call__\n",
      "    return [func(*args, **kwargs)\n",
      "  File \"C:\\Users\\chicmachina\\anaconda3\\lib\\site-packages\\joblib\\parallel.py\", line 262, in <listcomp>\n",
      "    return [func(*args, **kwargs)\n",
      "  File \"C:\\Users\\chicmachina\\anaconda3\\lib\\site-packages\\sklearn\\utils\\fixes.py\", line 216, in __call__\n",
      "    return self.function(*args, **kwargs)\n",
      "  File \"C:\\Users\\chicmachina\\anaconda3\\lib\\site-packages\\sklearn\\pipeline.py\", line 893, in _fit_transform_one\n",
      "    res = transformer.fit_transform(X, y, **fit_params)\n",
      "  File \"C:\\Users\\chicmachina\\anaconda3\\lib\\site-packages\\sklearn\\pipeline.py\", line 434, in fit_transform\n",
      "    return last_step.fit_transform(Xt, y, **fit_params_last_step)\n",
      "  File \"C:\\Users\\chicmachina\\anaconda3\\lib\\site-packages\\sklearn\\base.py\", line 855, in fit_transform\n",
      "    return self.fit(X, y, **fit_params).transform(X)\n",
      "  File \"C:\\Users\\chicmachina\\anaconda3\\lib\\site-packages\\sklearn\\preprocessing\\_encoders.py\", line 886, in fit\n",
      "    self._fit(X, handle_unknown=self.handle_unknown, force_all_finite=\"allow-nan\")\n",
      "  File \"C:\\Users\\chicmachina\\anaconda3\\lib\\site-packages\\sklearn\\preprocessing\\_encoders.py\", line 84, in _fit\n",
      "    raise ValueError(\n",
      "ValueError: Shape mismatch: if categories is an array, it has to be of shape (n_features,).\n",
      "\n",
      "  warnings.warn(some_fits_failed_message, FitFailedWarning)\n",
      "C:\\Users\\chicmachina\\anaconda3\\lib\\site-packages\\sklearn\\model_selection\\_search.py:969: UserWarning: One or more of the test scores are non-finite: [nan nan nan nan nan nan nan nan nan nan]\n",
      "  warnings.warn(\n"
     ]
    },
    {
     "data": {
      "text/plain": [
       "{'kneighborsregressor__weights': 'distance',\n",
       " 'kneighborsregressor__n_neighbors': 7,\n",
       " 'columntransformer__num_pipe__simpleimputer__strategy': 'mean'}"
      ]
     },
     "execution_count": 140,
     "metadata": {},
     "output_type": "execute_result"
    }
   ],
   "source": [
    "# K Nearest neighbors\n",
    "full_pipe_kn = make_pipeline(\n",
    "    preprocessor,\n",
    "    PCA(n_components=0.95),\n",
    "    KNeighborsRegressor())\n",
    "\n",
    "param_grid_kn = {\n",
    "    \"columntransformer__num_pipe__simpleimputer__strategy\":['mean','median'], \n",
    "    \"kneighborsregressor__n_neighbors\": range(3, 8, 2) ,\n",
    "    \"kneighborsregressor__weights\": ['uniform', 'distance']\n",
    "}\n",
    "\n",
    "kn_search = RandomizedSearchCV(full_pipe_kn,\n",
    "                                   param_grid_kn,\n",
    "                                   scoring=\"neg_root_mean_squared_error\",\n",
    "                                   n_iter=10,\n",
    "                                   cv=5,\n",
    "                                   n_jobs=4,\n",
    "                                   random_state=123)\n",
    "\n",
    "kn_search.fit(X_train, y_train)\n",
    "\n",
    "kn_search.best_params_"
   ]
  },
  {
   "cell_type": "code",
   "execution_count": 141,
   "id": "d4dd56f9",
   "metadata": {},
   "outputs": [
    {
     "name": "stderr",
     "output_type": "stream",
     "text": [
      "C:\\Users\\chicmachina\\anaconda3\\lib\\site-packages\\sklearn\\preprocessing\\_encoders.py:170: UserWarning: Found unknown categories in columns [11, 12, 13] during transform. These unknown categories will be encoded as all zeros\n",
      "  warnings.warn(\n"
     ]
    }
   ],
   "source": [
    "y_pred = kn_search.predict(X_test)"
   ]
  },
  {
   "cell_type": "code",
   "execution_count": 143,
   "id": "5d90e561",
   "metadata": {},
   "outputs": [
    {
     "data": {
      "text/plain": [
       "{'baseline_tree': 43879.873518573455,\n",
       " 'baseline_KNear': 30674.17660600554,\n",
       " 'baseline_OLS': 6337158731047.73,\n",
       " 'modelselect_tree': 42606.33604125767,\n",
       " 'modelselect_KNear': 30262.37680691028,\n",
       " 'modelselect_OLS': nan,\n",
       " 'RFE_tree': 36041.3362870785,\n",
       " 'RFE_OLS': 4145836444633610.0,\n",
       " 'PCA_tree': 34196.93924897161,\n",
       " 'PCA_KNear': 30569.46190602987}"
      ]
     },
     "execution_count": 143,
     "metadata": {},
     "output_type": "execute_result"
    }
   ],
   "source": [
    "performances[\"PCA_KNear\"]= mean_squared_error(y_test, y_pred, squared=False)\n",
    "performances"
   ]
  },
  {
   "cell_type": "markdown",
   "id": "fafaae11",
   "metadata": {},
   "source": [
    "### OLS"
   ]
  },
  {
   "cell_type": "code",
   "execution_count": 144,
   "id": "ec6576a1",
   "metadata": {},
   "outputs": [],
   "source": [
    "# OLS\n",
    "full_pipe_ols = make_pipeline(\n",
    "    preprocessor,\n",
    "    PCA(n_components=0.95),\n",
    "    LinearRegression())\n",
    "\n",
    "param_grid_ols = {\n",
    "    \"columntransformer__num_pipe__simpleimputer__strategy\":['mean','median']\n",
    "}\n",
    "\n",
    "ols_search = RandomizedSearchCV(full_pipe_ols,\n",
    "                                   param_grid_ols,\n",
    "                                   scoring=\"neg_root_mean_squared_error\",\n",
    "                                   n_iter=10,\n",
    "                                   cv=5,\n",
    "                                   n_jobs=4,\n",
    "                                   random_state=123)"
   ]
  },
  {
   "cell_type": "code",
   "execution_count": 145,
   "id": "7db529a9",
   "metadata": {},
   "outputs": [
    {
     "name": "stderr",
     "output_type": "stream",
     "text": [
      "C:\\Users\\chicmachina\\anaconda3\\lib\\site-packages\\sklearn\\model_selection\\_search.py:292: UserWarning: The total space of parameters 2 is smaller than n_iter=10. Running 2 iterations. For exhaustive searches, use GridSearchCV.\n",
      "  warnings.warn(\n",
      "C:\\Users\\chicmachina\\anaconda3\\lib\\site-packages\\sklearn\\model_selection\\_validation.py:372: FitFailedWarning: \n",
      "2 fits failed out of a total of 10.\n",
      "The score on these train-test partitions for these parameters will be set to nan.\n",
      "If these failures are not expected, you can try to debug them by setting error_score='raise'.\n",
      "\n",
      "Below are more details about the failures:\n",
      "--------------------------------------------------------------------------------\n",
      "2 fits failed with the following error:\n",
      "Traceback (most recent call last):\n",
      "  File \"C:\\Users\\chicmachina\\anaconda3\\lib\\site-packages\\sklearn\\model_selection\\_validation.py\", line 680, in _fit_and_score\n",
      "    estimator.fit(X_train, y_train, **fit_params)\n",
      "  File \"C:\\Users\\chicmachina\\anaconda3\\lib\\site-packages\\sklearn\\pipeline.py\", line 390, in fit\n",
      "    Xt = self._fit(X, y, **fit_params_steps)\n",
      "  File \"C:\\Users\\chicmachina\\anaconda3\\lib\\site-packages\\sklearn\\pipeline.py\", line 348, in _fit\n",
      "    X, fitted_transformer = fit_transform_one_cached(\n",
      "  File \"C:\\Users\\chicmachina\\anaconda3\\lib\\site-packages\\joblib\\memory.py\", line 349, in __call__\n",
      "    return self.func(*args, **kwargs)\n",
      "  File \"C:\\Users\\chicmachina\\anaconda3\\lib\\site-packages\\sklearn\\pipeline.py\", line 893, in _fit_transform_one\n",
      "    res = transformer.fit_transform(X, y, **fit_params)\n",
      "  File \"C:\\Users\\chicmachina\\anaconda3\\lib\\site-packages\\sklearn\\compose\\_column_transformer.py\", line 675, in fit_transform\n",
      "    result = self._fit_transform(X, y, _fit_transform_one)\n",
      "  File \"C:\\Users\\chicmachina\\anaconda3\\lib\\site-packages\\sklearn\\compose\\_column_transformer.py\", line 606, in _fit_transform\n",
      "    return Parallel(n_jobs=self.n_jobs)(\n",
      "  File \"C:\\Users\\chicmachina\\anaconda3\\lib\\site-packages\\joblib\\parallel.py\", line 1046, in __call__\n",
      "    while self.dispatch_one_batch(iterator):\n",
      "  File \"C:\\Users\\chicmachina\\anaconda3\\lib\\site-packages\\joblib\\parallel.py\", line 861, in dispatch_one_batch\n",
      "    self._dispatch(tasks)\n",
      "  File \"C:\\Users\\chicmachina\\anaconda3\\lib\\site-packages\\joblib\\parallel.py\", line 779, in _dispatch\n",
      "    job = self._backend.apply_async(batch, callback=cb)\n",
      "  File \"C:\\Users\\chicmachina\\anaconda3\\lib\\site-packages\\joblib\\_parallel_backends.py\", line 208, in apply_async\n",
      "    result = ImmediateResult(func)\n",
      "  File \"C:\\Users\\chicmachina\\anaconda3\\lib\\site-packages\\joblib\\_parallel_backends.py\", line 572, in __init__\n",
      "    self.results = batch()\n",
      "  File \"C:\\Users\\chicmachina\\anaconda3\\lib\\site-packages\\joblib\\parallel.py\", line 262, in __call__\n",
      "    return [func(*args, **kwargs)\n",
      "  File \"C:\\Users\\chicmachina\\anaconda3\\lib\\site-packages\\joblib\\parallel.py\", line 262, in <listcomp>\n",
      "    return [func(*args, **kwargs)\n",
      "  File \"C:\\Users\\chicmachina\\anaconda3\\lib\\site-packages\\sklearn\\utils\\fixes.py\", line 216, in __call__\n",
      "    return self.function(*args, **kwargs)\n",
      "  File \"C:\\Users\\chicmachina\\anaconda3\\lib\\site-packages\\sklearn\\pipeline.py\", line 893, in _fit_transform_one\n",
      "    res = transformer.fit_transform(X, y, **fit_params)\n",
      "  File \"C:\\Users\\chicmachina\\anaconda3\\lib\\site-packages\\sklearn\\pipeline.py\", line 434, in fit_transform\n",
      "    return last_step.fit_transform(Xt, y, **fit_params_last_step)\n",
      "  File \"C:\\Users\\chicmachina\\anaconda3\\lib\\site-packages\\sklearn\\base.py\", line 855, in fit_transform\n",
      "    return self.fit(X, y, **fit_params).transform(X)\n",
      "  File \"C:\\Users\\chicmachina\\anaconda3\\lib\\site-packages\\sklearn\\preprocessing\\_encoders.py\", line 886, in fit\n",
      "    self._fit(X, handle_unknown=self.handle_unknown, force_all_finite=\"allow-nan\")\n",
      "  File \"C:\\Users\\chicmachina\\anaconda3\\lib\\site-packages\\sklearn\\preprocessing\\_encoders.py\", line 84, in _fit\n",
      "    raise ValueError(\n",
      "ValueError: Shape mismatch: if categories is an array, it has to be of shape (n_features,).\n",
      "\n",
      "  warnings.warn(some_fits_failed_message, FitFailedWarning)\n",
      "C:\\Users\\chicmachina\\anaconda3\\lib\\site-packages\\sklearn\\model_selection\\_search.py:969: UserWarning: One or more of the test scores are non-finite: [nan nan]\n",
      "  warnings.warn(\n"
     ]
    },
    {
     "data": {
      "text/plain": [
       "RandomizedSearchCV(cv=5,\n",
       "                   estimator=Pipeline(steps=[('columntransformer',\n",
       "                                              ColumnTransformer(transformers=[('num_pipe',\n",
       "                                                                               Pipeline(steps=[('simpleimputer',\n",
       "                                                                                                SimpleImputer()),\n",
       "                                                                                               ('standardscaler',\n",
       "                                                                                                StandardScaler())]),\n",
       "                                                                               Index(['MSSubClass', 'LotFrontage', 'LotArea', 'OverallQual', 'OverallCond',\n",
       "       'MasVnrArea', 'BsmtFinSF1', 'BsmtFinSF2', 'BsmtUnfSF', 'TotalBsmtSF',\n",
       "       '1stFlrSF'...\n",
       "                                                                                'BsmtExposure',\n",
       "                                                                                'Heating',\n",
       "                                                                                'CentralAir',\n",
       "                                                                                'Electrical',\n",
       "                                                                                'GarageType',\n",
       "                                                                                'PavedDrive',\n",
       "                                                                                'Fence',\n",
       "                                                                                'MiscFeature',\n",
       "                                                                                'SaleType',\n",
       "                                                                                'SaleCondition'])])),\n",
       "                                             ('pca', PCA(n_components=0.95)),\n",
       "                                             ('linearregression',\n",
       "                                              LinearRegression())]),\n",
       "                   n_jobs=4,\n",
       "                   param_distributions={'columntransformer__num_pipe__simpleimputer__strategy': ['mean',\n",
       "                                                                                                 'median']},\n",
       "                   random_state=123, scoring='neg_root_mean_squared_error')"
      ]
     },
     "execution_count": 145,
     "metadata": {},
     "output_type": "execute_result"
    }
   ],
   "source": [
    "ols_search.fit(X_train, y_train)"
   ]
  },
  {
   "cell_type": "code",
   "execution_count": 146,
   "id": "88dae21f",
   "metadata": {},
   "outputs": [
    {
     "data": {
      "text/plain": [
       "{'columntransformer__num_pipe__simpleimputer__strategy': 'mean'}"
      ]
     },
     "execution_count": 146,
     "metadata": {},
     "output_type": "execute_result"
    }
   ],
   "source": [
    "ols_search.best_params_"
   ]
  },
  {
   "cell_type": "code",
   "execution_count": null,
   "id": "c0616e3b",
   "metadata": {},
   "outputs": [],
   "source": [
    "y_pred = ols_search.predict(X_test)"
   ]
  },
  {
   "cell_type": "code",
   "execution_count": 148,
   "id": "3c6af635",
   "metadata": {},
   "outputs": [
    {
     "data": {
      "text/plain": [
       "{'baseline_tree': 43879.873518573455,\n",
       " 'baseline_KNear': 30674.17660600554,\n",
       " 'baseline_OLS': 6337158731047.73,\n",
       " 'modelselect_tree': 42606.33604125767,\n",
       " 'modelselect_KNear': 30262.37680691028,\n",
       " 'modelselect_OLS': nan,\n",
       " 'RFE_tree': 36041.3362870785,\n",
       " 'RFE_OLS': 4145836444633610.0,\n",
       " 'PCA_tree': 34196.93924897161,\n",
       " 'PCA_KNear': 30569.46190602987,\n",
       " 'PCA_OLS': 26674.981051124178}"
      ]
     },
     "execution_count": 148,
     "metadata": {},
     "output_type": "execute_result"
    }
   ],
   "source": [
    "performances[\"PCA_OLS\"]= mean_squared_error(y_test, y_pred, squared=False)\n",
    "performances"
   ]
  },
  {
   "cell_type": "markdown",
   "id": "56e822f1",
   "metadata": {},
   "source": [
    "### PCA for all, then model select"
   ]
  },
  {
   "cell_type": "code",
   "execution_count": 151,
   "id": "08eacb5a",
   "metadata": {},
   "outputs": [
    {
     "name": "stderr",
     "output_type": "stream",
     "text": [
      "C:\\Users\\chicmachina\\anaconda3\\lib\\site-packages\\sklearn\\model_selection\\_validation.py:372: FitFailedWarning: \n",
      "10 fits failed out of a total of 50.\n",
      "The score on these train-test partitions for these parameters will be set to nan.\n",
      "If these failures are not expected, you can try to debug them by setting error_score='raise'.\n",
      "\n",
      "Below are more details about the failures:\n",
      "--------------------------------------------------------------------------------\n",
      "10 fits failed with the following error:\n",
      "Traceback (most recent call last):\n",
      "  File \"C:\\Users\\chicmachina\\anaconda3\\lib\\site-packages\\sklearn\\model_selection\\_validation.py\", line 680, in _fit_and_score\n",
      "    estimator.fit(X_train, y_train, **fit_params)\n",
      "  File \"C:\\Users\\chicmachina\\anaconda3\\lib\\site-packages\\sklearn\\pipeline.py\", line 390, in fit\n",
      "    Xt = self._fit(X, y, **fit_params_steps)\n",
      "  File \"C:\\Users\\chicmachina\\anaconda3\\lib\\site-packages\\sklearn\\pipeline.py\", line 348, in _fit\n",
      "    X, fitted_transformer = fit_transform_one_cached(\n",
      "  File \"C:\\Users\\chicmachina\\anaconda3\\lib\\site-packages\\joblib\\memory.py\", line 349, in __call__\n",
      "    return self.func(*args, **kwargs)\n",
      "  File \"C:\\Users\\chicmachina\\anaconda3\\lib\\site-packages\\sklearn\\pipeline.py\", line 893, in _fit_transform_one\n",
      "    res = transformer.fit_transform(X, y, **fit_params)\n",
      "  File \"C:\\Users\\chicmachina\\anaconda3\\lib\\site-packages\\sklearn\\compose\\_column_transformer.py\", line 675, in fit_transform\n",
      "    result = self._fit_transform(X, y, _fit_transform_one)\n",
      "  File \"C:\\Users\\chicmachina\\anaconda3\\lib\\site-packages\\sklearn\\compose\\_column_transformer.py\", line 606, in _fit_transform\n",
      "    return Parallel(n_jobs=self.n_jobs)(\n",
      "  File \"C:\\Users\\chicmachina\\anaconda3\\lib\\site-packages\\joblib\\parallel.py\", line 1046, in __call__\n",
      "    while self.dispatch_one_batch(iterator):\n",
      "  File \"C:\\Users\\chicmachina\\anaconda3\\lib\\site-packages\\joblib\\parallel.py\", line 861, in dispatch_one_batch\n",
      "    self._dispatch(tasks)\n",
      "  File \"C:\\Users\\chicmachina\\anaconda3\\lib\\site-packages\\joblib\\parallel.py\", line 779, in _dispatch\n",
      "    job = self._backend.apply_async(batch, callback=cb)\n",
      "  File \"C:\\Users\\chicmachina\\anaconda3\\lib\\site-packages\\joblib\\_parallel_backends.py\", line 208, in apply_async\n",
      "    result = ImmediateResult(func)\n",
      "  File \"C:\\Users\\chicmachina\\anaconda3\\lib\\site-packages\\joblib\\_parallel_backends.py\", line 572, in __init__\n",
      "    self.results = batch()\n",
      "  File \"C:\\Users\\chicmachina\\anaconda3\\lib\\site-packages\\joblib\\parallel.py\", line 262, in __call__\n",
      "    return [func(*args, **kwargs)\n",
      "  File \"C:\\Users\\chicmachina\\anaconda3\\lib\\site-packages\\joblib\\parallel.py\", line 262, in <listcomp>\n",
      "    return [func(*args, **kwargs)\n",
      "  File \"C:\\Users\\chicmachina\\anaconda3\\lib\\site-packages\\sklearn\\utils\\fixes.py\", line 216, in __call__\n",
      "    return self.function(*args, **kwargs)\n",
      "  File \"C:\\Users\\chicmachina\\anaconda3\\lib\\site-packages\\sklearn\\pipeline.py\", line 893, in _fit_transform_one\n",
      "    res = transformer.fit_transform(X, y, **fit_params)\n",
      "  File \"C:\\Users\\chicmachina\\anaconda3\\lib\\site-packages\\sklearn\\pipeline.py\", line 434, in fit_transform\n",
      "    return last_step.fit_transform(Xt, y, **fit_params_last_step)\n",
      "  File \"C:\\Users\\chicmachina\\anaconda3\\lib\\site-packages\\sklearn\\base.py\", line 855, in fit_transform\n",
      "    return self.fit(X, y, **fit_params).transform(X)\n",
      "  File \"C:\\Users\\chicmachina\\anaconda3\\lib\\site-packages\\sklearn\\preprocessing\\_encoders.py\", line 886, in fit\n",
      "    self._fit(X, handle_unknown=self.handle_unknown, force_all_finite=\"allow-nan\")\n",
      "  File \"C:\\Users\\chicmachina\\anaconda3\\lib\\site-packages\\sklearn\\preprocessing\\_encoders.py\", line 84, in _fit\n",
      "    raise ValueError(\n",
      "ValueError: Shape mismatch: if categories is an array, it has to be of shape (n_features,).\n",
      "\n",
      "  warnings.warn(some_fits_failed_message, FitFailedWarning)\n",
      "C:\\Users\\chicmachina\\anaconda3\\lib\\site-packages\\sklearn\\model_selection\\_search.py:969: UserWarning: One or more of the test scores are non-finite: [nan nan nan nan nan nan nan nan nan nan]\n",
      "  warnings.warn(\n"
     ]
    },
    {
     "data": {
      "text/plain": [
       "{'selectfrommodel__estimator__min_samples_leaf': 7,\n",
       " 'selectfrommodel__estimator__max_depth': 5,\n",
       " 'kneighborsregressor__weights': 'distance',\n",
       " 'kneighborsregressor__n_neighbors': 3,\n",
       " 'columntransformer__num_pipe__simpleimputer__strategy': 'mean'}"
      ]
     },
     "execution_count": 151,
     "metadata": {},
     "output_type": "execute_result"
    }
   ],
   "source": [
    "# K Nearest neighbors\n",
    "full_pipe_kn = make_pipeline(\n",
    "    preprocessor,\n",
    "    PCA(n_components=0.95),\n",
    "    SelectFromModel(DecisionTreeRegressor()),\n",
    "    KNeighborsRegressor())\n",
    "\n",
    "param_grid_kn = {\n",
    "    \"columntransformer__num_pipe__simpleimputer__strategy\":['mean','median'], \n",
    "    \"selectfrommodel__estimator__max_depth\": range(2, 8),\n",
    "    \"selectfrommodel__estimator__min_samples_leaf\": range(3, 12),\n",
    "    \"kneighborsregressor__n_neighbors\": range(3, 8, 2) ,\n",
    "    \"kneighborsregressor__weights\": ['uniform', 'distance']\n",
    "}\n",
    "\n",
    "kn_search = RandomizedSearchCV(full_pipe_kn,\n",
    "                                   param_grid_kn,\n",
    "                                   scoring=\"neg_root_mean_squared_error\",\n",
    "                                   n_iter=10,\n",
    "                                   cv=5,\n",
    "                                   n_jobs=4,\n",
    "                                   random_state=123)\n",
    "\n",
    "kn_search.fit(X_train, y_train)\n",
    "\n",
    "kn_search.best_params_"
   ]
  },
  {
   "cell_type": "code",
   "execution_count": 152,
   "id": "09e6db3d",
   "metadata": {},
   "outputs": [
    {
     "name": "stderr",
     "output_type": "stream",
     "text": [
      "C:\\Users\\chicmachina\\anaconda3\\lib\\site-packages\\sklearn\\preprocessing\\_encoders.py:170: UserWarning: Found unknown categories in columns [11, 12, 13] during transform. These unknown categories will be encoded as all zeros\n",
      "  warnings.warn(\n"
     ]
    }
   ],
   "source": [
    "y_pred = kn_search.predict(X_test)"
   ]
  },
  {
   "cell_type": "code",
   "execution_count": 153,
   "id": "75afc3f7",
   "metadata": {},
   "outputs": [
    {
     "data": {
      "text/plain": [
       "{'baseline_tree': 43879.873518573455,\n",
       " 'baseline_KNear': 30674.17660600554,\n",
       " 'baseline_OLS': 6337158731047.73,\n",
       " 'modelselect_tree': 42606.33604125767,\n",
       " 'modelselect_KNear': 30262.37680691028,\n",
       " 'modelselect_OLS': nan,\n",
       " 'RFE_tree': 36041.3362870785,\n",
       " 'RFE_OLS': 4145836444633610.0,\n",
       " 'PCA_tree': 34196.93924897161,\n",
       " 'PCA_KNear': 30569.46190602987,\n",
       " 'PCA_OLS': 26674.981051124178,\n",
       " 'PCA_modelselect_KNear': 30887.26034321068}"
      ]
     },
     "execution_count": 153,
     "metadata": {},
     "output_type": "execute_result"
    }
   ],
   "source": [
    "performances[\"PCA_modelselect_KNear\"]= mean_squared_error(y_test, y_pred, squared=False)\n",
    "performances"
   ]
  },
  {
   "cell_type": "code",
   "execution_count": 154,
   "id": "e0b01db7",
   "metadata": {},
   "outputs": [
    {
     "name": "stderr",
     "output_type": "stream",
     "text": [
      "C:\\Users\\chicmachina\\anaconda3\\lib\\site-packages\\sklearn\\model_selection\\_validation.py:372: FitFailedWarning: \n",
      "10 fits failed out of a total of 50.\n",
      "The score on these train-test partitions for these parameters will be set to nan.\n",
      "If these failures are not expected, you can try to debug them by setting error_score='raise'.\n",
      "\n",
      "Below are more details about the failures:\n",
      "--------------------------------------------------------------------------------\n",
      "10 fits failed with the following error:\n",
      "Traceback (most recent call last):\n",
      "  File \"C:\\Users\\chicmachina\\anaconda3\\lib\\site-packages\\sklearn\\model_selection\\_validation.py\", line 680, in _fit_and_score\n",
      "    estimator.fit(X_train, y_train, **fit_params)\n",
      "  File \"C:\\Users\\chicmachina\\anaconda3\\lib\\site-packages\\sklearn\\pipeline.py\", line 390, in fit\n",
      "    Xt = self._fit(X, y, **fit_params_steps)\n",
      "  File \"C:\\Users\\chicmachina\\anaconda3\\lib\\site-packages\\sklearn\\pipeline.py\", line 348, in _fit\n",
      "    X, fitted_transformer = fit_transform_one_cached(\n",
      "  File \"C:\\Users\\chicmachina\\anaconda3\\lib\\site-packages\\joblib\\memory.py\", line 349, in __call__\n",
      "    return self.func(*args, **kwargs)\n",
      "  File \"C:\\Users\\chicmachina\\anaconda3\\lib\\site-packages\\sklearn\\pipeline.py\", line 893, in _fit_transform_one\n",
      "    res = transformer.fit_transform(X, y, **fit_params)\n",
      "  File \"C:\\Users\\chicmachina\\anaconda3\\lib\\site-packages\\sklearn\\compose\\_column_transformer.py\", line 675, in fit_transform\n",
      "    result = self._fit_transform(X, y, _fit_transform_one)\n",
      "  File \"C:\\Users\\chicmachina\\anaconda3\\lib\\site-packages\\sklearn\\compose\\_column_transformer.py\", line 606, in _fit_transform\n",
      "    return Parallel(n_jobs=self.n_jobs)(\n",
      "  File \"C:\\Users\\chicmachina\\anaconda3\\lib\\site-packages\\joblib\\parallel.py\", line 1046, in __call__\n",
      "    while self.dispatch_one_batch(iterator):\n",
      "  File \"C:\\Users\\chicmachina\\anaconda3\\lib\\site-packages\\joblib\\parallel.py\", line 861, in dispatch_one_batch\n",
      "    self._dispatch(tasks)\n",
      "  File \"C:\\Users\\chicmachina\\anaconda3\\lib\\site-packages\\joblib\\parallel.py\", line 779, in _dispatch\n",
      "    job = self._backend.apply_async(batch, callback=cb)\n",
      "  File \"C:\\Users\\chicmachina\\anaconda3\\lib\\site-packages\\joblib\\_parallel_backends.py\", line 208, in apply_async\n",
      "    result = ImmediateResult(func)\n",
      "  File \"C:\\Users\\chicmachina\\anaconda3\\lib\\site-packages\\joblib\\_parallel_backends.py\", line 572, in __init__\n",
      "    self.results = batch()\n",
      "  File \"C:\\Users\\chicmachina\\anaconda3\\lib\\site-packages\\joblib\\parallel.py\", line 262, in __call__\n",
      "    return [func(*args, **kwargs)\n",
      "  File \"C:\\Users\\chicmachina\\anaconda3\\lib\\site-packages\\joblib\\parallel.py\", line 262, in <listcomp>\n",
      "    return [func(*args, **kwargs)\n",
      "  File \"C:\\Users\\chicmachina\\anaconda3\\lib\\site-packages\\sklearn\\utils\\fixes.py\", line 216, in __call__\n",
      "    return self.function(*args, **kwargs)\n",
      "  File \"C:\\Users\\chicmachina\\anaconda3\\lib\\site-packages\\sklearn\\pipeline.py\", line 893, in _fit_transform_one\n",
      "    res = transformer.fit_transform(X, y, **fit_params)\n",
      "  File \"C:\\Users\\chicmachina\\anaconda3\\lib\\site-packages\\sklearn\\pipeline.py\", line 434, in fit_transform\n",
      "    return last_step.fit_transform(Xt, y, **fit_params_last_step)\n",
      "  File \"C:\\Users\\chicmachina\\anaconda3\\lib\\site-packages\\sklearn\\base.py\", line 855, in fit_transform\n",
      "    return self.fit(X, y, **fit_params).transform(X)\n",
      "  File \"C:\\Users\\chicmachina\\anaconda3\\lib\\site-packages\\sklearn\\preprocessing\\_encoders.py\", line 886, in fit\n",
      "    self._fit(X, handle_unknown=self.handle_unknown, force_all_finite=\"allow-nan\")\n",
      "  File \"C:\\Users\\chicmachina\\anaconda3\\lib\\site-packages\\sklearn\\preprocessing\\_encoders.py\", line 84, in _fit\n",
      "    raise ValueError(\n",
      "ValueError: Shape mismatch: if categories is an array, it has to be of shape (n_features,).\n",
      "\n",
      "  warnings.warn(some_fits_failed_message, FitFailedWarning)\n",
      "C:\\Users\\chicmachina\\anaconda3\\lib\\site-packages\\sklearn\\model_selection\\_search.py:969: UserWarning: One or more of the test scores are non-finite: [nan nan nan nan nan nan nan nan nan nan]\n",
      "  warnings.warn(\n"
     ]
    },
    {
     "data": {
      "text/plain": [
       "{'selectfrommodel__threshold': 'median',\n",
       " 'selectfrommodel__estimator__min_samples_leaf': 7,\n",
       " 'selectfrommodel__estimator__max_depth': 5,\n",
       " 'columntransformer__num_pipe__simpleimputer__strategy': 'median'}"
      ]
     },
     "execution_count": 154,
     "metadata": {},
     "output_type": "execute_result"
    }
   ],
   "source": [
    "# OLS\n",
    "full_pipe_ols = make_pipeline(\n",
    "    preprocessor,\n",
    "    PCA(n_components=0.95),\n",
    "    SelectFromModel(DecisionTreeRegressor()),\n",
    "    LinearRegression())\n",
    "\n",
    "param_grid_ols = {\n",
    "    \"columntransformer__num_pipe__simpleimputer__strategy\":['mean','median'], \n",
    "    \"selectfrommodel__threshold\": ['mean', 'median'],\n",
    "    \"selectfrommodel__estimator__max_depth\": range(2, 8),\n",
    "    \"selectfrommodel__estimator__min_samples_leaf\": range(3, 12)\n",
    "}\n",
    "\n",
    "ols_search = RandomizedSearchCV(full_pipe_ols,\n",
    "                                   param_grid_ols,\n",
    "                                   scoring=\"neg_root_mean_squared_error\",\n",
    "                                   n_iter=10,\n",
    "                                   cv=5,\n",
    "                                   n_jobs=4,\n",
    "                                   random_state=123)\n",
    "\n",
    "ols_search.fit(X_train, y_train)\n",
    "\n",
    "ols_search.best_params_"
   ]
  },
  {
   "cell_type": "code",
   "execution_count": 155,
   "id": "ef4bf683",
   "metadata": {},
   "outputs": [
    {
     "name": "stderr",
     "output_type": "stream",
     "text": [
      "C:\\Users\\chicmachina\\anaconda3\\lib\\site-packages\\sklearn\\preprocessing\\_encoders.py:170: UserWarning: Found unknown categories in columns [11, 12, 13] during transform. These unknown categories will be encoded as all zeros\n",
      "  warnings.warn(\n"
     ]
    }
   ],
   "source": [
    "y_pred = ols_search.predict(X_test)"
   ]
  },
  {
   "cell_type": "code",
   "execution_count": 156,
   "id": "9bd84871",
   "metadata": {},
   "outputs": [
    {
     "data": {
      "text/plain": [
       "{'baseline_tree': 43879.873518573455,\n",
       " 'baseline_KNear': 30674.17660600554,\n",
       " 'baseline_OLS': 6337158731047.73,\n",
       " 'modelselect_tree': 42606.33604125767,\n",
       " 'modelselect_KNear': 30262.37680691028,\n",
       " 'modelselect_OLS': nan,\n",
       " 'RFE_tree': 36041.3362870785,\n",
       " 'RFE_OLS': 4145836444633610.0,\n",
       " 'PCA_tree': 34196.93924897161,\n",
       " 'PCA_KNear': 30569.46190602987,\n",
       " 'PCA_OLS': 26674.981051124178,\n",
       " 'PCA_modelselect_KNear': 30887.26034321068,\n",
       " 'PCA_modelselect_OLS': 26665.329808676965}"
      ]
     },
     "execution_count": 156,
     "metadata": {},
     "output_type": "execute_result"
    }
   ],
   "source": [
    "performances[\"PCA_modelselect_OLS\"]= mean_squared_error(y_test, y_pred, squared=False)\n",
    "performances"
   ]
  },
  {
   "cell_type": "code",
   "execution_count": 161,
   "id": "45e0bb13",
   "metadata": {},
   "outputs": [
    {
     "name": "stderr",
     "output_type": "stream",
     "text": [
      "C:\\Users\\chicmachina\\anaconda3\\lib\\site-packages\\sklearn\\preprocessing\\_encoders.py:170: UserWarning: Found unknown categories in columns [11, 12, 13] during transform. These unknown categories will be encoded as all zeros\n",
      "  warnings.warn(\n"
     ]
    }
   ],
   "source": [
    "y_pred_submit = ols_search.predict(df_test)"
   ]
  },
  {
   "cell_type": "code",
   "execution_count": null,
   "id": "e1324e52",
   "metadata": {},
   "outputs": [],
   "source": []
  },
  {
   "cell_type": "code",
   "execution_count": 401,
   "id": "82c2752d",
   "metadata": {},
   "outputs": [
    {
     "data": {
      "text/html": [
       "<div>\n",
       "<style scoped>\n",
       "    .dataframe tbody tr th:only-of-type {\n",
       "        vertical-align: middle;\n",
       "    }\n",
       "\n",
       "    .dataframe tbody tr th {\n",
       "        vertical-align: top;\n",
       "    }\n",
       "\n",
       "    .dataframe thead th {\n",
       "        text-align: right;\n",
       "    }\n",
       "</style>\n",
       "<table border=\"1\" class=\"dataframe\">\n",
       "  <thead>\n",
       "    <tr style=\"text-align: right;\">\n",
       "      <th></th>\n",
       "      <th>MSSubClass</th>\n",
       "      <th>MSZoning</th>\n",
       "      <th>LotFrontage</th>\n",
       "      <th>LotArea</th>\n",
       "      <th>Street</th>\n",
       "      <th>Alley</th>\n",
       "      <th>LotShape</th>\n",
       "      <th>LandContour</th>\n",
       "      <th>Utilities</th>\n",
       "      <th>LotConfig</th>\n",
       "      <th>...</th>\n",
       "      <th>Fence</th>\n",
       "      <th>MiscFeature</th>\n",
       "      <th>MiscVal</th>\n",
       "      <th>MoSold</th>\n",
       "      <th>YrSold</th>\n",
       "      <th>SaleType</th>\n",
       "      <th>SaleCondition</th>\n",
       "      <th>Age</th>\n",
       "      <th>AgeRemod</th>\n",
       "      <th>AgeGarage</th>\n",
       "    </tr>\n",
       "    <tr>\n",
       "      <th>Id</th>\n",
       "      <th></th>\n",
       "      <th></th>\n",
       "      <th></th>\n",
       "      <th></th>\n",
       "      <th></th>\n",
       "      <th></th>\n",
       "      <th></th>\n",
       "      <th></th>\n",
       "      <th></th>\n",
       "      <th></th>\n",
       "      <th></th>\n",
       "      <th></th>\n",
       "      <th></th>\n",
       "      <th></th>\n",
       "      <th></th>\n",
       "      <th></th>\n",
       "      <th></th>\n",
       "      <th></th>\n",
       "      <th></th>\n",
       "      <th></th>\n",
       "      <th></th>\n",
       "    </tr>\n",
       "  </thead>\n",
       "  <tbody>\n",
       "    <tr>\n",
       "      <th>1461</th>\n",
       "      <td>20</td>\n",
       "      <td>RH</td>\n",
       "      <td>80.0</td>\n",
       "      <td>11622</td>\n",
       "      <td>Pave</td>\n",
       "      <td>NaN</td>\n",
       "      <td>Reg</td>\n",
       "      <td>Lvl</td>\n",
       "      <td>AllPub</td>\n",
       "      <td>Inside</td>\n",
       "      <td>...</td>\n",
       "      <td>MnPrv</td>\n",
       "      <td>NaN</td>\n",
       "      <td>0</td>\n",
       "      <td>6</td>\n",
       "      <td>2010</td>\n",
       "      <td>WD</td>\n",
       "      <td>Normal</td>\n",
       "      <td>49</td>\n",
       "      <td>49</td>\n",
       "      <td>49.0</td>\n",
       "    </tr>\n",
       "  </tbody>\n",
       "</table>\n",
       "<p>1 rows × 79 columns</p>\n",
       "</div>"
      ],
      "text/plain": [
       "      MSSubClass MSZoning  LotFrontage  LotArea Street Alley LotShape  \\\n",
       "Id                                                                      \n",
       "1461          20       RH         80.0    11622   Pave   NaN      Reg   \n",
       "\n",
       "     LandContour Utilities LotConfig  ...  Fence MiscFeature MiscVal MoSold  \\\n",
       "Id                                    ...                                     \n",
       "1461         Lvl    AllPub    Inside  ...  MnPrv         NaN       0      6   \n",
       "\n",
       "     YrSold SaleType  SaleCondition  Age AgeRemod AgeGarage  \n",
       "Id                                                           \n",
       "1461   2010       WD         Normal   49       49      49.0  \n",
       "\n",
       "[1 rows x 79 columns]"
      ]
     },
     "execution_count": 401,
     "metadata": {},
     "output_type": "execute_result"
    }
   ],
   "source": [
    "df_test.head(1)"
   ]
  },
  {
   "cell_type": "markdown",
   "id": "7753cb60",
   "metadata": {},
   "source": [
    "## submission"
   ]
  },
  {
   "cell_type": "code",
   "execution_count": null,
   "id": "8298ed93",
   "metadata": {},
   "outputs": [],
   "source": []
  },
  {
   "cell_type": "code",
   "execution_count": 159,
   "id": "c9abe69f",
   "metadata": {},
   "outputs": [
    {
     "data": {
      "text/html": [
       "<div>\n",
       "<style scoped>\n",
       "    .dataframe tbody tr th:only-of-type {\n",
       "        vertical-align: middle;\n",
       "    }\n",
       "\n",
       "    .dataframe tbody tr th {\n",
       "        vertical-align: top;\n",
       "    }\n",
       "\n",
       "    .dataframe thead th {\n",
       "        text-align: right;\n",
       "    }\n",
       "</style>\n",
       "<table border=\"1\" class=\"dataframe\">\n",
       "  <thead>\n",
       "    <tr style=\"text-align: right;\">\n",
       "      <th></th>\n",
       "      <th>MSSubClass</th>\n",
       "      <th>MSZoning</th>\n",
       "      <th>LotFrontage</th>\n",
       "      <th>LotArea</th>\n",
       "      <th>Street</th>\n",
       "      <th>Alley</th>\n",
       "      <th>LotShape</th>\n",
       "      <th>LandContour</th>\n",
       "      <th>Utilities</th>\n",
       "      <th>LotConfig</th>\n",
       "      <th>...</th>\n",
       "      <th>PoolArea</th>\n",
       "      <th>PoolQC</th>\n",
       "      <th>Fence</th>\n",
       "      <th>MiscFeature</th>\n",
       "      <th>MiscVal</th>\n",
       "      <th>MoSold</th>\n",
       "      <th>YrSold</th>\n",
       "      <th>SaleType</th>\n",
       "      <th>SaleCondition</th>\n",
       "      <th>SalePrice</th>\n",
       "    </tr>\n",
       "    <tr>\n",
       "      <th>Id</th>\n",
       "      <th></th>\n",
       "      <th></th>\n",
       "      <th></th>\n",
       "      <th></th>\n",
       "      <th></th>\n",
       "      <th></th>\n",
       "      <th></th>\n",
       "      <th></th>\n",
       "      <th></th>\n",
       "      <th></th>\n",
       "      <th></th>\n",
       "      <th></th>\n",
       "      <th></th>\n",
       "      <th></th>\n",
       "      <th></th>\n",
       "      <th></th>\n",
       "      <th></th>\n",
       "      <th></th>\n",
       "      <th></th>\n",
       "      <th></th>\n",
       "      <th></th>\n",
       "    </tr>\n",
       "  </thead>\n",
       "  <tbody>\n",
       "    <tr>\n",
       "      <th>712</th>\n",
       "      <td>50</td>\n",
       "      <td>C (all)</td>\n",
       "      <td>66.0</td>\n",
       "      <td>8712</td>\n",
       "      <td>Pave</td>\n",
       "      <td>Pave</td>\n",
       "      <td>Reg</td>\n",
       "      <td>HLS</td>\n",
       "      <td>AllPub</td>\n",
       "      <td>Inside</td>\n",
       "      <td>...</td>\n",
       "      <td>0</td>\n",
       "      <td>NaN</td>\n",
       "      <td>NaN</td>\n",
       "      <td>NaN</td>\n",
       "      <td>0</td>\n",
       "      <td>1</td>\n",
       "      <td>2010</td>\n",
       "      <td>WD</td>\n",
       "      <td>Abnorml</td>\n",
       "      <td>102776</td>\n",
       "    </tr>\n",
       "    <tr>\n",
       "      <th>1267</th>\n",
       "      <td>190</td>\n",
       "      <td>RM</td>\n",
       "      <td>60.0</td>\n",
       "      <td>10120</td>\n",
       "      <td>Pave</td>\n",
       "      <td>NaN</td>\n",
       "      <td>IR1</td>\n",
       "      <td>Bnk</td>\n",
       "      <td>AllPub</td>\n",
       "      <td>Inside</td>\n",
       "      <td>...</td>\n",
       "      <td>0</td>\n",
       "      <td>NaN</td>\n",
       "      <td>MnPrv</td>\n",
       "      <td>NaN</td>\n",
       "      <td>0</td>\n",
       "      <td>1</td>\n",
       "      <td>2007</td>\n",
       "      <td>WD</td>\n",
       "      <td>Normal</td>\n",
       "      <td>122000</td>\n",
       "    </tr>\n",
       "    <tr>\n",
       "      <th>834</th>\n",
       "      <td>20</td>\n",
       "      <td>RL</td>\n",
       "      <td>100.0</td>\n",
       "      <td>10004</td>\n",
       "      <td>Pave</td>\n",
       "      <td>NaN</td>\n",
       "      <td>Reg</td>\n",
       "      <td>Lvl</td>\n",
       "      <td>AllPub</td>\n",
       "      <td>Inside</td>\n",
       "      <td>...</td>\n",
       "      <td>0</td>\n",
       "      <td>NaN</td>\n",
       "      <td>NaN</td>\n",
       "      <td>NaN</td>\n",
       "      <td>0</td>\n",
       "      <td>2</td>\n",
       "      <td>2009</td>\n",
       "      <td>WD</td>\n",
       "      <td>Normal</td>\n",
       "      <td>167000</td>\n",
       "    </tr>\n",
       "  </tbody>\n",
       "</table>\n",
       "<p>3 rows × 80 columns</p>\n",
       "</div>"
      ],
      "text/plain": [
       "      MSSubClass MSZoning  LotFrontage  LotArea Street Alley LotShape  \\\n",
       "Id                                                                      \n",
       "712           50  C (all)         66.0     8712   Pave  Pave      Reg   \n",
       "1267         190       RM         60.0    10120   Pave   NaN      IR1   \n",
       "834           20       RL        100.0    10004   Pave   NaN      Reg   \n",
       "\n",
       "     LandContour Utilities LotConfig  ... PoolArea PoolQC  Fence MiscFeature  \\\n",
       "Id                                    ...                                      \n",
       "712          HLS    AllPub    Inside  ...        0    NaN    NaN         NaN   \n",
       "1267         Bnk    AllPub    Inside  ...        0    NaN  MnPrv         NaN   \n",
       "834          Lvl    AllPub    Inside  ...        0    NaN    NaN         NaN   \n",
       "\n",
       "     MiscVal MoSold  YrSold  SaleType  SaleCondition  SalePrice  \n",
       "Id                                                               \n",
       "712        0      1    2010        WD        Abnorml     102776  \n",
       "1267       0      1    2007        WD         Normal     122000  \n",
       "834        0      2    2009        WD         Normal     167000  \n",
       "\n",
       "[3 rows x 80 columns]"
      ]
     },
     "execution_count": 159,
     "metadata": {},
     "output_type": "execute_result"
    }
   ],
   "source": [
    "df_test = pd.read_csv(path)\n",
    "df_test = df_test.set_index('Id')\n",
    "#df.isna().sum()\n",
    "df_test.sample(3)"
   ]
  },
  {
   "cell_type": "code",
   "execution_count": null,
   "id": "d8c03ae9",
   "metadata": {},
   "outputs": [],
   "source": [
    "df_test.shape"
   ]
  },
  {
   "cell_type": "code",
   "execution_count": 160,
   "id": "2fc20544",
   "metadata": {},
   "outputs": [],
   "source": [
    "df_test['Age'] = 2010 - df_test.YearBuilt   \n",
    "df_test['AgeRemod'] = 2010 - df_test.YearRemodAdd   \n",
    "df_test['AgeGarage'] = 2010 - df_test.GarageYrBlt   \n",
    "df_test.drop(labels=['YearBuilt', 'YearRemodAdd', 'GarageYrBlt'], axis=1, inplace=True)"
   ]
  },
  {
   "cell_type": "code",
   "execution_count": 162,
   "id": "82712558",
   "metadata": {},
   "outputs": [
    {
     "data": {
      "text/html": [
       "<div>\n",
       "<style scoped>\n",
       "    .dataframe tbody tr th:only-of-type {\n",
       "        vertical-align: middle;\n",
       "    }\n",
       "\n",
       "    .dataframe tbody tr th {\n",
       "        vertical-align: top;\n",
       "    }\n",
       "\n",
       "    .dataframe thead th {\n",
       "        text-align: right;\n",
       "    }\n",
       "</style>\n",
       "<table border=\"1\" class=\"dataframe\">\n",
       "  <thead>\n",
       "    <tr style=\"text-align: right;\">\n",
       "      <th></th>\n",
       "      <th>MSSubClass</th>\n",
       "      <th>MSZoning</th>\n",
       "      <th>LotFrontage</th>\n",
       "      <th>LotArea</th>\n",
       "      <th>Street</th>\n",
       "      <th>Alley</th>\n",
       "      <th>LotShape</th>\n",
       "      <th>LandContour</th>\n",
       "      <th>Utilities</th>\n",
       "      <th>LotConfig</th>\n",
       "      <th>...</th>\n",
       "      <th>MiscFeature</th>\n",
       "      <th>MiscVal</th>\n",
       "      <th>MoSold</th>\n",
       "      <th>YrSold</th>\n",
       "      <th>SaleType</th>\n",
       "      <th>SaleCondition</th>\n",
       "      <th>SalePrice</th>\n",
       "      <th>Age</th>\n",
       "      <th>AgeRemod</th>\n",
       "      <th>AgeGarage</th>\n",
       "    </tr>\n",
       "    <tr>\n",
       "      <th>Id</th>\n",
       "      <th></th>\n",
       "      <th></th>\n",
       "      <th></th>\n",
       "      <th></th>\n",
       "      <th></th>\n",
       "      <th></th>\n",
       "      <th></th>\n",
       "      <th></th>\n",
       "      <th></th>\n",
       "      <th></th>\n",
       "      <th></th>\n",
       "      <th></th>\n",
       "      <th></th>\n",
       "      <th></th>\n",
       "      <th></th>\n",
       "      <th></th>\n",
       "      <th></th>\n",
       "      <th></th>\n",
       "      <th></th>\n",
       "      <th></th>\n",
       "      <th></th>\n",
       "    </tr>\n",
       "  </thead>\n",
       "  <tbody>\n",
       "    <tr>\n",
       "      <th>158</th>\n",
       "      <td>60</td>\n",
       "      <td>RL</td>\n",
       "      <td>92.0</td>\n",
       "      <td>12003</td>\n",
       "      <td>Pave</td>\n",
       "      <td>NaN</td>\n",
       "      <td>Reg</td>\n",
       "      <td>Lvl</td>\n",
       "      <td>AllPub</td>\n",
       "      <td>Corner</td>\n",
       "      <td>...</td>\n",
       "      <td>NaN</td>\n",
       "      <td>0</td>\n",
       "      <td>5</td>\n",
       "      <td>2010</td>\n",
       "      <td>New</td>\n",
       "      <td>Partial</td>\n",
       "      <td>255975.488490</td>\n",
       "      <td>1</td>\n",
       "      <td>0</td>\n",
       "      <td>1.0</td>\n",
       "    </tr>\n",
       "    <tr>\n",
       "      <th>556</th>\n",
       "      <td>45</td>\n",
       "      <td>RM</td>\n",
       "      <td>58.0</td>\n",
       "      <td>6380</td>\n",
       "      <td>Pave</td>\n",
       "      <td>NaN</td>\n",
       "      <td>Reg</td>\n",
       "      <td>Lvl</td>\n",
       "      <td>AllPub</td>\n",
       "      <td>Inside</td>\n",
       "      <td>...</td>\n",
       "      <td>NaN</td>\n",
       "      <td>0</td>\n",
       "      <td>8</td>\n",
       "      <td>2006</td>\n",
       "      <td>WD</td>\n",
       "      <td>Normal</td>\n",
       "      <td>107160.221290</td>\n",
       "      <td>88</td>\n",
       "      <td>60</td>\n",
       "      <td>88.0</td>\n",
       "    </tr>\n",
       "    <tr>\n",
       "      <th>1142</th>\n",
       "      <td>60</td>\n",
       "      <td>RL</td>\n",
       "      <td>NaN</td>\n",
       "      <td>10304</td>\n",
       "      <td>Pave</td>\n",
       "      <td>NaN</td>\n",
       "      <td>IR1</td>\n",
       "      <td>Lvl</td>\n",
       "      <td>AllPub</td>\n",
       "      <td>CulDSac</td>\n",
       "      <td>...</td>\n",
       "      <td>NaN</td>\n",
       "      <td>0</td>\n",
       "      <td>10</td>\n",
       "      <td>2009</td>\n",
       "      <td>WD</td>\n",
       "      <td>Normal</td>\n",
       "      <td>183827.433773</td>\n",
       "      <td>34</td>\n",
       "      <td>34</td>\n",
       "      <td>34.0</td>\n",
       "    </tr>\n",
       "  </tbody>\n",
       "</table>\n",
       "<p>3 rows × 80 columns</p>\n",
       "</div>"
      ],
      "text/plain": [
       "      MSSubClass MSZoning  LotFrontage  LotArea Street Alley LotShape  \\\n",
       "Id                                                                      \n",
       "158           60       RL         92.0    12003   Pave   NaN      Reg   \n",
       "556           45       RM         58.0     6380   Pave   NaN      Reg   \n",
       "1142          60       RL          NaN    10304   Pave   NaN      IR1   \n",
       "\n",
       "     LandContour Utilities LotConfig  ... MiscFeature MiscVal MoSold YrSold  \\\n",
       "Id                                    ...                                     \n",
       "158          Lvl    AllPub    Corner  ...         NaN       0      5   2010   \n",
       "556          Lvl    AllPub    Inside  ...         NaN       0      8   2006   \n",
       "1142         Lvl    AllPub   CulDSac  ...         NaN       0     10   2009   \n",
       "\n",
       "     SaleType SaleCondition      SalePrice  Age AgeRemod AgeGarage  \n",
       "Id                                                                  \n",
       "158       New       Partial  255975.488490    1        0       1.0  \n",
       "556        WD        Normal  107160.221290   88       60      88.0  \n",
       "1142       WD        Normal  183827.433773   34       34      34.0  \n",
       "\n",
       "[3 rows x 80 columns]"
      ]
     },
     "execution_count": 162,
     "metadata": {},
     "output_type": "execute_result"
    }
   ],
   "source": [
    "df_test['SalePrice']=y_pred_submit\n",
    "df_test.sample(3)"
   ]
  },
  {
   "cell_type": "code",
   "execution_count": 163,
   "id": "7f5391ee",
   "metadata": {},
   "outputs": [
    {
     "data": {
      "text/html": [
       "<div>\n",
       "<style scoped>\n",
       "    .dataframe tbody tr th:only-of-type {\n",
       "        vertical-align: middle;\n",
       "    }\n",
       "\n",
       "    .dataframe tbody tr th {\n",
       "        vertical-align: top;\n",
       "    }\n",
       "\n",
       "    .dataframe thead th {\n",
       "        text-align: right;\n",
       "    }\n",
       "</style>\n",
       "<table border=\"1\" class=\"dataframe\">\n",
       "  <thead>\n",
       "    <tr style=\"text-align: right;\">\n",
       "      <th></th>\n",
       "      <th>Id</th>\n",
       "      <th>SalePrice</th>\n",
       "    </tr>\n",
       "  </thead>\n",
       "  <tbody>\n",
       "    <tr>\n",
       "      <th>0</th>\n",
       "      <td>1</td>\n",
       "      <td>221343.322214</td>\n",
       "    </tr>\n",
       "    <tr>\n",
       "      <th>1</th>\n",
       "      <td>2</td>\n",
       "      <td>184840.186988</td>\n",
       "    </tr>\n",
       "    <tr>\n",
       "      <th>2</th>\n",
       "      <td>3</td>\n",
       "      <td>225543.263733</td>\n",
       "    </tr>\n",
       "    <tr>\n",
       "      <th>3</th>\n",
       "      <td>4</td>\n",
       "      <td>204586.369706</td>\n",
       "    </tr>\n",
       "    <tr>\n",
       "      <th>4</th>\n",
       "      <td>5</td>\n",
       "      <td>285541.415985</td>\n",
       "    </tr>\n",
       "  </tbody>\n",
       "</table>\n",
       "</div>"
      ],
      "text/plain": [
       "   Id      SalePrice\n",
       "0   1  221343.322214\n",
       "1   2  184840.186988\n",
       "2   3  225543.263733\n",
       "3   4  204586.369706\n",
       "4   5  285541.415985"
      ]
     },
     "execution_count": 163,
     "metadata": {},
     "output_type": "execute_result"
    }
   ],
   "source": [
    "#submit= df_test.rename_axis('').rename_axis(\"Id\", axis=\"columns\").loc[:,['Id','SalePrice']]\n",
    "submit= df_test.reset_index(level=0).loc[:,['Id','SalePrice']]\n",
    "submit.head()"
   ]
  },
  {
   "cell_type": "code",
   "execution_count": 404,
   "id": "1ec0d0e2",
   "metadata": {},
   "outputs": [],
   "source": [
    "submit.to_csv('Prediction_SalePrice.csv',index=False)"
   ]
  },
  {
   "cell_type": "code",
   "execution_count": null,
   "id": "7589ab5c",
   "metadata": {},
   "outputs": [],
   "source": []
  }
 ],
 "metadata": {
  "kernelspec": {
   "display_name": "Python 3 (ipykernel)",
   "language": "python",
   "name": "python3"
  },
  "language_info": {
   "codemirror_mode": {
    "name": "ipython",
    "version": 3
   },
   "file_extension": ".py",
   "mimetype": "text/x-python",
   "name": "python",
   "nbconvert_exporter": "python",
   "pygments_lexer": "ipython3",
   "version": "3.9.12"
  }
 },
 "nbformat": 4,
 "nbformat_minor": 5
}
